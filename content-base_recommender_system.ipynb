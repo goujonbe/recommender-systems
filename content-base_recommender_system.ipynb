{
 "cells": [
  {
   "cell_type": "markdown",
   "metadata": {},
   "source": [
    "# Content-based recommender system\n",
    "\n",
    "Cette première approche du système de recommendation s'appuie sur les caractéristiques d'un objet, film, ... et des préférences de l'utilisateur.\n",
    "\n",
    "## Enjeux\n",
    "* Beaucoup trop d'informations visibles pour l'utilisateur\n",
    "* Proposer à l'utilisateur une expérience personnalisée\n",
    "* Permettre à l'utilisateur de trouver vite ce qu'il recherche\n",
    "\n",
    "## Objectif\n",
    "Recommender l'utilisateur en fonction de ses préférences qu'il a pu révéler explicitement ou implicitement par le passé.\n",
    "\n",
    "\n",
    "# Cas d'usage : Netflix\n",
    "Pour cette première approche du système de recommendation, nous devons supposer que chaque film a un ou plusieurs genre(s) associés et chaque utilisateur a émis des préférences sur les genres des films qu'il apprécie.\n",
    " \n",
    "## Objectif\n",
    "\n",
    "Le but du système de recommendation basé sur le contenu est de prédire comment l'utilisateur aurait noté ou non tel ou tel film pour lui proposer un film en fonction.\n",
    "\n",
    "## Théorie\n",
    "\n",
    "Ce système de recommendation a pour but de matcher les préférences de l'utilisateur avec les attributs du film (ex : genre, acteurs préférés, durée du film, date de sortie,...)\n",
    "\n",
    "#### Content-based approche\n",
    "\n",
    "Pour prédire la note qu'un utilisateur donnerait à un film qu'il n'aurait pas encore vu, nous allons partir de deux matrices :\n",
    "- la première contenant les notes donné par les utilisateurs pour chaque film.\n",
    "- la seconde contenant la balance des genres, par exemple, pour chacun des films.\n",
    "\n",
    "Ensuite, nous pourrions nous appuyer sur un calcul matriciel et la formule suivante :\n",
    "\n",
    "$$ a(i,j) = (\\theta^j)^Tx^i  $$\n",
    "\n",
    "\n",
    "\n",
    "\n",
    "Cette formule permet de prédire la note pour un utilisateur *j* et pour un film *i*. \n",
    "Il existe d'autres techniques permmettant de faire apprendre le \n",
    "\n",
    "# Avantages et inconvénients\n",
    "* User independence : Nécéssite seulement les préférences de l'utilisateur pour prédire ou proposer du contenu.\n",
    "* Transparency : Compréhension rapide du mode de fonctionnemnt du système de recommendation.\n",
    "* New item : Ce système peut, dès la sortie d'un nouveau film, proposer ce film à un utilisateur. \n",
    "\n",
    "- Limited content analysis : Le système est contraint par le nombre et le type d'attributs disponible. S'il n'y pas assez d'informations disponible pour un film, il sera difficile de prédire  qui ce film pourra plaire.\n",
    "- Over-specialization : Si un utilisateur n'a noté que les film de Luc Besson, seuls ses films seront proposés (dans un système \"parfait\") \n",
    "- New user : Dans le cas d'un nouvel utilisateur, le système ne sera aussi précis que pour un autre utilisateur avéré."
   ]
  },
  {
   "cell_type": "code",
   "execution_count": null,
   "metadata": {},
   "outputs": [],
   "source": []
  },
  {
   "cell_type": "code",
   "execution_count": null,
   "metadata": {},
   "outputs": [],
   "source": []
  },
  {
   "cell_type": "code",
   "execution_count": null,
   "metadata": {},
   "outputs": [],
   "source": []
  }
 ],
 "metadata": {
  "kernelspec": {
   "display_name": "Python 3",
   "language": "python",
   "name": "python3"
  },
  "language_info": {
   "codemirror_mode": {
    "name": "ipython",
    "version": 3
   },
   "file_extension": ".py",
   "mimetype": "text/x-python",
   "name": "python",
   "nbconvert_exporter": "python",
   "pygments_lexer": "ipython3",
   "version": "3.6.5"
  }
 },
 "nbformat": 4,
 "nbformat_minor": 2
}
