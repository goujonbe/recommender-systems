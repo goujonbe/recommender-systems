{
 "cells": [
  {
   "cell_type": "markdown",
   "metadata": {},
   "source": [
    "# Collaborative filtering\n",
    "\n",
    "Cette approche est différente des systèmes de recommandation basés sur le contenu. Cette approche se base sur les interactions d'utilisateurs au comportement similaire pour recommander de nouveaux items à l'utilisateur.\n",
    "\n",
    "## Objectif\n",
    "\n",
    "L'objectif est de compléter ce qu'on appelle la matrice d'interaction. Cette matrice prend la forme ci-dessous :\n",
    "![Image de la matrice d'interaction](images/interaction_matrix.png \"Matrice d'interaction\")\n",
    "\n",
    "Le but est donc de remplacer les points d'interrogation par des notes que l'utilisateur serait susceptible d'attribuer. La difficulté réside dans le fait que cette matrice est de grande dimension et que la plupart des valeurs sont manquantes.\n",
    "\n",
    "## Théorie\n",
    "\n",
    "### Différentes techniques\n",
    "\n",
    "#### K plus proches voisins\n",
    "\n",
    "Le but est de regrouper les utilisateurs qui ont des goûts semblables. Ainsi, on trouvera les k utilisateurs les plus similaires (appelés k plus proches voisins). Le système de recommandation proposera alors les films appréciés et non visionnés par ces k plus proches voisins.\n",
    "\n",
    "Pour déterminer le degré de similitude entre deux utilisateurs, on pourra s'appuyer sur la [cosine similarity](http://pages.stern.nyu.edu/~atuzhili/pdf/TKDE-Paper-as-Printed.pdf)\n",
    "\n",
    "$$cos(a,b) = \\frac{a \\cdot b}{\\left\\Vert a \\right\\Vert \\cdot \\left\\Vert b \\right\\Vert}$$\n",
    "\n",
    "$a$ et $b$ étant deux vecteurs contenant les notes de deux utilisateurs.\n",
    "\n",
    "Mais il existe d'autres techniques pour déterminer la corrélation comme le [coeficient de corrélation de Pearson](http://citeseerx.ist.psu.edu/viewdoc/download?doi=10.1.1.38.3784&rep=rep1&type=pdf).\n",
    "\n",
    "Visuellement, le principe est de compléter les champs vides par les notes d'utilisateurs similaires comme on peut le voir ci-dessous :\n",
    "\n",
    "![Image de la matrice d'interaction complétée grâce aux utilisateurs similaires](images/cosine_similarity.png \"Matrice d'interaction complétée\")\n",
    "\n",
    "#### Factorisation de matrices\n",
    "\n",
    "Cette technique est très largement utilisée et présente aujourd'hui de meilleurs résultats que la précédente méthode. Elle a été utilisée par les vainqueurs du concours organisé par Netflix. Le principe est de décomposer la matrice d'interaction en deux facteurs. Cela réduira considérablement les temps de calcul. La situation est représentée ci-dessous :\n",
    "\n",
    "![Image factorisation de matrices](images/matrix_factorisation.png)\n",
    "\n",
    "La méthode pour déterminer ces deux matrices est la descente de gradient, très utilisée en machine learning. L'objectif de cet algorithme est de minimiser la fonction d'erreur en s'approchant par ptits pas du minimum local ou global.\n",
    "\n",
    "## Avantages et inconvénients\n",
    "\n",
    "### Inconvénients\n",
    "* faible abondance des données : un utilisateur ne note jamais tous les items sur un site et même souvent très peu\n",
    "* cold start problem : au départ,un utilisateur n'a donné aucune indication sur ce qu'il apprécie, comment lui proposer des items ?\n",
    "* scalabilité : plus il y a d'utilisateurs et de produits plus le temps de calcul sera long, parfois difficile de faire du temps réel\n",
    "\n",
    "### Avantages\n"
   ]
  },
  {
   "cell_type": "code",
   "execution_count": null,
   "metadata": {},
   "outputs": [],
   "source": []
  }
 ],
 "metadata": {
  "kernelspec": {
   "display_name": "Python 3",
   "language": "python",
   "name": "python3"
  },
  "language_info": {
   "codemirror_mode": {
    "name": "ipython",
    "version": 3
   },
   "file_extension": ".py",
   "mimetype": "text/x-python",
   "name": "python",
   "nbconvert_exporter": "python",
   "pygments_lexer": "ipython3",
   "version": "3.6.5"
  }
 },
 "nbformat": 4,
 "nbformat_minor": 2
}
