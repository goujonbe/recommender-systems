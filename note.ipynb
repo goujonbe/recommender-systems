{
 "cells": [
  {
   "cell_type": "markdown",
   "metadata": {},
   "source": [
    "# Exploration des données\n",
    "L'objectif de ce Notebook est d'explorer le dataset de Netflix (echantillon numéro 1) en repondant aux questions suivantes : \n",
    "* Quel est le nombre total de notes ?\n",
    "* Quel est le nombre total d'utilisateurs ?\n",
    "* Quel est le nombre total de films ?\n",
    "* Comment sont distribuées les notes ?\n",
    "* Comment est distribué le nombre total de notes par utilisateur ?\n"
   ]
  },
  {
   "cell_type": "code",
   "execution_count": 1,
   "metadata": {},
   "outputs": [],
   "source": [
    "#Module pour charger et manipuler les données\n",
    "import pandas as pd \n",
    "#Module pour calculer les statistiques\n",
    "import numpy as np\n",
    "#Module pour generer les graphes\n",
    "import matplotlib.pyplot as plt\n",
    "#Module pour calculer le mode\n",
    "import statistics\n",
    "#Afficher les graphes directement\n",
    "%matplotlib inline\n",
    "from collections import Counter "
   ]
  },
  {
   "cell_type": "code",
   "execution_count": 2,
   "metadata": {},
   "outputs": [
    {
     "data": {
      "text/plain": [
       "Index(['movie_id', 'customer_id', 'rating', 'date'], dtype='object')"
      ]
     },
     "execution_count": 2,
     "metadata": {},
     "output_type": "execute_result"
    }
   ],
   "source": [
    "#Charger les données\n",
    "data = pd.read_csv(\"/data/pfe/formated/combined_data_1.csv\")\n",
    "data.columns"
   ]
  },
  {
   "cell_type": "markdown",
   "metadata": {},
   "source": [
    "On peut observer qu'on possède l'identifiant du film, l'identifiant du client, la note donnée et la date. Exemple avec les 10 premières lignes du jeu de données : "
   ]
  },
  {
   "cell_type": "code",
   "execution_count": 3,
   "metadata": {},
   "outputs": [
    {
     "data": {
      "text/html": [
       "<div>\n",
       "<style scoped>\n",
       "    .dataframe tbody tr th:only-of-type {\n",
       "        vertical-align: middle;\n",
       "    }\n",
       "\n",
       "    .dataframe tbody tr th {\n",
       "        vertical-align: top;\n",
       "    }\n",
       "\n",
       "    .dataframe thead th {\n",
       "        text-align: right;\n",
       "    }\n",
       "</style>\n",
       "<table border=\"1\" class=\"dataframe\">\n",
       "  <thead>\n",
       "    <tr style=\"text-align: right;\">\n",
       "      <th></th>\n",
       "      <th>movie_id</th>\n",
       "      <th>customer_id</th>\n",
       "      <th>rating</th>\n",
       "      <th>date</th>\n",
       "    </tr>\n",
       "  </thead>\n",
       "  <tbody>\n",
       "    <tr>\n",
       "      <th>0</th>\n",
       "      <td>1</td>\n",
       "      <td>1488844</td>\n",
       "      <td>3</td>\n",
       "      <td>2005-09-06</td>\n",
       "    </tr>\n",
       "    <tr>\n",
       "      <th>1</th>\n",
       "      <td>1</td>\n",
       "      <td>822109</td>\n",
       "      <td>5</td>\n",
       "      <td>2005-05-13</td>\n",
       "    </tr>\n",
       "    <tr>\n",
       "      <th>2</th>\n",
       "      <td>1</td>\n",
       "      <td>885013</td>\n",
       "      <td>4</td>\n",
       "      <td>2005-10-19</td>\n",
       "    </tr>\n",
       "    <tr>\n",
       "      <th>3</th>\n",
       "      <td>1</td>\n",
       "      <td>30878</td>\n",
       "      <td>4</td>\n",
       "      <td>2005-12-26</td>\n",
       "    </tr>\n",
       "    <tr>\n",
       "      <th>4</th>\n",
       "      <td>1</td>\n",
       "      <td>823519</td>\n",
       "      <td>3</td>\n",
       "      <td>2004-05-03</td>\n",
       "    </tr>\n",
       "    <tr>\n",
       "      <th>5</th>\n",
       "      <td>1</td>\n",
       "      <td>893988</td>\n",
       "      <td>3</td>\n",
       "      <td>2005-11-17</td>\n",
       "    </tr>\n",
       "    <tr>\n",
       "      <th>6</th>\n",
       "      <td>1</td>\n",
       "      <td>124105</td>\n",
       "      <td>4</td>\n",
       "      <td>2004-08-05</td>\n",
       "    </tr>\n",
       "    <tr>\n",
       "      <th>7</th>\n",
       "      <td>1</td>\n",
       "      <td>1248029</td>\n",
       "      <td>3</td>\n",
       "      <td>2004-04-22</td>\n",
       "    </tr>\n",
       "    <tr>\n",
       "      <th>8</th>\n",
       "      <td>1</td>\n",
       "      <td>1842128</td>\n",
       "      <td>4</td>\n",
       "      <td>2004-05-09</td>\n",
       "    </tr>\n",
       "    <tr>\n",
       "      <th>9</th>\n",
       "      <td>1</td>\n",
       "      <td>2238063</td>\n",
       "      <td>3</td>\n",
       "      <td>2005-05-11</td>\n",
       "    </tr>\n",
       "  </tbody>\n",
       "</table>\n",
       "</div>"
      ],
      "text/plain": [
       "   movie_id  customer_id  rating        date\n",
       "0         1      1488844       3  2005-09-06\n",
       "1         1       822109       5  2005-05-13\n",
       "2         1       885013       4  2005-10-19\n",
       "3         1        30878       4  2005-12-26\n",
       "4         1       823519       3  2004-05-03\n",
       "5         1       893988       3  2005-11-17\n",
       "6         1       124105       4  2004-08-05\n",
       "7         1      1248029       3  2004-04-22\n",
       "8         1      1842128       4  2004-05-09\n",
       "9         1      2238063       3  2005-05-11"
      ]
     },
     "execution_count": 3,
     "metadata": {},
     "output_type": "execute_result"
    }
   ],
   "source": [
    "data.head(10)"
   ]
  },
  {
   "cell_type": "markdown",
   "metadata": {},
   "source": [
    "# Nombre total de notes"
   ]
  },
  {
   "cell_type": "code",
   "execution_count": 4,
   "metadata": {},
   "outputs": [
    {
     "name": "stdout",
     "output_type": "stream",
     "text": [
      "Nombre total de notes : 24053764\n"
     ]
    }
   ],
   "source": [
    "print(\"Nombre total de notes : {}\".format(data.shape[0]))"
   ]
  },
  {
   "cell_type": "markdown",
   "metadata": {},
   "source": [
    "# Nombre total d'utilisateurs"
   ]
  },
  {
   "cell_type": "code",
   "execution_count": 5,
   "metadata": {},
   "outputs": [
    {
     "name": "stdout",
     "output_type": "stream",
     "text": [
      "Nombre total d'utilisateurs : 470758\n"
     ]
    }
   ],
   "source": [
    "nb_utilisateur = data.groupby('customer_id').size().count()\n",
    "print(\"Nombre total d'utilisateurs : {}\".format(nb_utilisateur))"
   ]
  },
  {
   "cell_type": "markdown",
   "metadata": {},
   "source": [
    "# Nombre total de films"
   ]
  },
  {
   "cell_type": "code",
   "execution_count": 6,
   "metadata": {},
   "outputs": [
    {
     "name": "stdout",
     "output_type": "stream",
     "text": [
      "Nombre total de films : 4499\n"
     ]
    }
   ],
   "source": [
    "nb_films = data.groupby('movie_id').size().count()\n",
    "print(\"Nombre total de films : {}\".format(nb_films))"
   ]
  },
  {
   "cell_type": "markdown",
   "metadata": {},
   "source": [
    "# Distribution des notes\n",
    "\n",
    "L'objectif est ici d'étudier le nombre de 1, de 2, de 3, de 4 et de 5. Cela nous donnera une tendance de la manière dont les gens notent les films et séries sur Netflix."
   ]
  },
  {
   "cell_type": "code",
   "execution_count": 7,
   "metadata": {},
   "outputs": [],
   "source": [
    "notes = list(data['rating'])\n",
    "counter = Counter(notes)"
   ]
  },
  {
   "cell_type": "markdown",
   "metadata": {},
   "source": [
    "La distribution des notes est la suivante : \n",
    "* 1 118 186 personnes ont donné la note 1 \n",
    "* 2 439 073 personnes ont donné la note 2\n",
    "* 6 904 181 personnes ont donné la note 3\n",
    "* 8 085 741 personnes ont donné la note 4\n",
    "* 5 506 583 personnes ont donné la note 5\n",
    "\n",
    "On peut visualiser cette distribution sur le notebook ci-dessous :"
   ]
  },
  {
   "cell_type": "code",
   "execution_count": 8,
   "metadata": {},
   "outputs": [
    {
     "data": {
      "text/plain": [
       "Text(0,0.5,'Number of ratings')"
      ]
     },
     "execution_count": 8,
     "metadata": {},
     "output_type": "execute_result"
    },
    {
     "data": {
      "image/png": "[encoded data removed]",
      "text/plain": [
       "<Figure size 432x288 with 1 Axes>"
      ]
     },
     "metadata": {},
     "output_type": "display_data"
    }
   ],
   "source": [
    "plt.bar(counter.keys(), counter.values())\n",
    "plt.xlabel('Rating')\n",
    "plt.ylabel('Number of ratings')"
   ]
  },
  {
   "cell_type": "markdown",
   "metadata": {},
   "source": [
    "On remarque que la note la plus donnée est 4. Et il y a une forte concentration des notes au dessus de 3. On en déduit que les utilisateurs de Netflix ont plutôt tendance à noter le programme regardé lorsqu'ils l'ont apprécié. Il faut garder cela à l'esprit car cela peut introduire des biais dans notre systèmes de recommandation."
   ]
  },
  {
   "cell_type": "markdown",
   "metadata": {},
   "source": [
    "# Distribution du nombre total de notes par utilisateur\n",
    "\n",
    "L'objectif de cette partie est de déterminer les statistisques sur le nombre de notes donné par utilisateur. Cela a une importance primordiale car les notes des utilisateurs constituent les données d'entraînement et plus elles seront fournies, plus le modèle de Machine Learning sera performant."
   ]
  },
  {
   "cell_type": "code",
   "execution_count": 30,
   "metadata": {},
   "outputs": [],
   "source": [
    "nb_notes_utilisateur = data.groupby('customer_id')[\"rating\"].count()"
   ]
  },
  {
   "cell_type": "code",
   "execution_count": 27,
   "metadata": {},
   "outputs": [
    {
     "name": "stdout",
     "output_type": "stream",
     "text": [
      "L'utilisateur ayant donné le plus de notes a donné 4467 notes\n"
     ]
    }
   ],
   "source": [
    "v_max = max(nb_notes_utilisateur)\n",
    "print(\"L'utilisateur ayant donné le plus de notes a donné {} notes\".format(v_max))"
   ]
  },
  {
   "cell_type": "code",
   "execution_count": 28,
   "metadata": {},
   "outputs": [
    {
     "name": "stdout",
     "output_type": "stream",
     "text": [
      "L'utilisateur ayant donné le moins de notes a donné 1 note\n"
     ]
    }
   ],
   "source": [
    "v_min = min(nb_notes_utilisateur)\n",
    "print(\"L'utilisateur ayant donné le moins de notes a donné {} note\".format(v_min))"
   ]
  },
  {
   "cell_type": "markdown",
   "metadata": {},
   "source": [
    "On voit que l'écart est significatif entre l'utilisateur ayant donné le plus de notes et celui qui en a donné le moins. Il sera très compliqué de prédire un programme pour un utilisateur ayant donné quasiment aucune indication sur ses goûts."
   ]
  },
  {
   "cell_type": "code",
   "execution_count": 31,
   "metadata": {},
   "outputs": [
    {
     "name": "stdout",
     "output_type": "stream",
     "text": [
      "La moyenne est de : 51.10\n"
     ]
    }
   ],
   "source": [
    "moyenne = np.mean(nb_notes_utilisateur)\n",
    "print(\"La moyenne est de : {0:.2f}\".format(moyenne))"
   ]
  },
  {
   "cell_type": "code",
   "execution_count": 33,
   "metadata": {},
   "outputs": [
    {
     "name": "stdout",
     "output_type": "stream",
     "text": [
      "La note la plus donnée est : 2\n"
     ]
    }
   ],
   "source": [
    "#Determine le point de données le plus fréquent/ plus populaire\n",
    "mode = statistics.mode(nb_notes_utilisateur)\n",
    "print(\"La note la plus donnée est :\", mode)# Nb d'utilisateurs qui ont noté 2 fois = 17261"
   ]
  },
  {
   "cell_type": "markdown",
   "metadata": {},
   "source": [
    "Ceci est une donnée intéressante qu'il faut garder à l'esprit. Les utilisateurs semblent avoir donné peu de notes. Cela va donc être compliqué de recommander avec ci peu d'information sur leurs goûts."
   ]
  },
  {
   "cell_type": "code",
   "execution_count": 35,
   "metadata": {},
   "outputs": [
    {
     "name": "stdout",
     "output_type": "stream",
     "text": [
      "50 % des utilisateurs ont donné 24 notes ou moins\n"
     ]
    }
   ],
   "source": [
    "#Calcul de la mediane : valeur centrale \n",
    "mediane = np.median(nb_notes_utilisateur)\n",
    "print(\"50 % des utilisateurs ont donné {} notes ou moins\".format(int(mediane)))"
   ]
  },
  {
   "cell_type": "markdown",
   "metadata": {},
   "source": [
    "Cette donnée va dans le même sens que les précédentes et confirme que le jeu de données pour l'entraînement est constitué d'utilsateurs ayant donné peu de notes."
   ]
  },
  {
   "cell_type": "code",
   "execution_count": 40,
   "metadata": {},
   "outputs": [
    {
     "name": "stdout",
     "output_type": "stream",
     "text": [
      "L'ecart type est d'environ 74.40\n"
     ]
    }
   ],
   "source": [
    "ecart = np.std(nb_notes_utilisateur)\n",
    "print(\"L'ecart type est d'environ {0:.2f}\".format(ecart))"
   ]
  },
  {
   "cell_type": "code",
   "execution_count": 41,
   "metadata": {},
   "outputs": [
    {
     "name": "stdout",
     "output_type": "stream",
     "text": [
      "La variance est d'environ 5536.10 \n"
     ]
    }
   ],
   "source": [
    "variance = np.var(nb_notes_utilisateur)\n",
    "print(\"La variance est d'environ {0:.2f} \".format(variance))"
   ]
  },
  {
   "cell_type": "markdown",
   "metadata": {},
   "source": [
    "L'écart type et la variance permettent de mesurer l'étendue des données et à quel point elles sont dispersées. Nos données indiquent que les données sont très dispersées et qu'il existe de forts écart entre certains point de données et la moyenne."
   ]
  },
  {
   "cell_type": "code",
   "execution_count": 43,
   "metadata": {},
   "outputs": [
    {
     "name": "stdout",
     "output_type": "stream",
     "text": [
      "8.0\n",
      "64.0\n"
     ]
    }
   ],
   "source": [
    "quantile1 = np.percentile(nb_notes_utilisateur, 25)\n",
    "print(quantile1)\n",
    "\n",
    "quantile2 = np.percentile(nb_notes_utilisateur, 75)\n",
    "print(quantile2)"
   ]
  },
  {
   "cell_type": "markdown",
   "metadata": {},
   "source": [
    "Ces données signifient qu'un quart des utilisateurs de ce dataset ont donné 8 notes ou moins et que trois quarts ont donné 64 notes ou moins. Ce sera donc un véritable challenge d'entraîner un système de recommandation basé sur les interactions entre l'utilisateur et les programmes.\n",
    "\n",
    "Reprenons toutes ces statistiques sous la forme d'un diagramme à boîtes."
   ]
  },
  {
   "cell_type": "code",
   "execution_count": 44,
   "metadata": {},
   "outputs": [
    {
     "data": {
      "text/plain": [
       "{'whiskers': [<matplotlib.lines.Line2D at 0x7fc6953e42e8>,\n",
       "  <matplotlib.lines.Line2D at 0x7fc6953e4780>],\n",
       " 'caps': [<matplotlib.lines.Line2D at 0x7fc6953e4ba8>,\n",
       "  <matplotlib.lines.Line2D at 0x7fc6953e4fd0>],\n",
       " 'boxes': [<matplotlib.lines.Line2D at 0x7fc6953e4198>],\n",
       " 'medians': [<matplotlib.lines.Line2D at 0x7fc695408438>],\n",
       " 'fliers': [<matplotlib.lines.Line2D at 0x7fc695408860>],\n",
       " 'means': []}"
      ]
     },
     "execution_count": 44,
     "metadata": {},
     "output_type": "execute_result"
    },
    {
     "data": {
      "image/png": "[encoded data removed]",
      "text/plain": [
       "<Figure size 1440x720 with 1 Axes>"
      ]
     },
     "metadata": {},
     "output_type": "display_data"
    }
   ],
   "source": [
    "font= {'size': 30}\n",
    "plt.rc('font',**font)\n",
    "plt.figure(figsize = (20,10))\n",
    "\n",
    "plt.boxplot(note_par_utilisateur, vert=False)"
   ]
  },
  {
   "cell_type": "markdown",
   "metadata": {},
   "source": [
    "# Conclusion\n",
    "\n",
    "Ce qu'il faut retenir de cette première analyse des données.\n",
    "* il s'agit d'un échantillon mais qui est représentatif du jeu de données dans son ensemble car celui-ci a simplement été divisé en 4\n",
    "* il contient beaucoup d'informations (plusieurs dizaines de millions de notes de plusieurs dizaines de milliers d'utilisateurs sur des milliers de films)\n",
    "* les utilisateurs ont tendance à noter les films qu'ils apprécient (note la plus donnée : 4)\n",
    "* il y a très peu de notes par utilisateur (75 % ont donné moins de 64 notes sur presque 5 000 films dans cet échantillon)\n",
    "* ce jeu de données contient quelques intrus au sens statistique avec des utilisateurs ayant donné environ 4 000 notes"
   ]
  }
 ],
 "metadata": {
  "kernelspec": {
   "display_name": "Python 3",
   "language": "python",
   "name": "python3"
  },
  "language_info": {
   "codemirror_mode": {
    "name": "ipython",
    "version": 3
   },
   "file_extension": ".py",
   "mimetype": "text/x-python",
   "name": "python",
   "nbconvert_exporter": "python",
   "pygments_lexer": "ipython3",
   "version": "3.6.5"
  }
 },
 "nbformat": 4,
 "nbformat_minor": 2
}
