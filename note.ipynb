{
 "cells": [
  {
   "cell_type": "markdown",
   "metadata": {},
   "source": [
    "# Exploration des données\n",
    "L'objectif de ce Notebook est d'explorer le dataset de Netflix (echantillon numéro 1) en repondant aux questions suivantes : \n",
    "* Quel est le nombre total de notes ?\n",
    "* Quel est le nombre total d'utilisateurs ?\n",
    "* Quel est le nombre total de films ?\n",
    "* Comment sont distribuées les notes ?\n",
    "* Comment est distribué le nombre total de notes par utilisateur ?\n"
   ]
  },
  {
   "cell_type": "code",
   "execution_count": 182,
   "metadata": {},
   "outputs": [],
   "source": [
    "#Module pour charger et manipuler les données\n",
    "import pandas as pd \n",
    "#Module pour calculer les statistiques\n",
    "import numpy as np\n",
    "#Module pour generer les graphes\n",
    "import matplotlib.pyplot as plt\n",
    "#Module pour calculer le mode\n",
    "import statistics\n",
    "#Afficher les graphes directement\n",
    "%matplotlib inline\n",
    "from collections import Counter "
   ]
  },
  {
   "cell_type": "code",
   "execution_count": 183,
   "metadata": {},
   "outputs": [
    {
     "data": {
      "text/plain": [
       "Index(['movie_id', 'customer_id', 'rating', 'date'], dtype='object')"
      ]
     },
     "execution_count": 183,
     "metadata": {},
     "output_type": "execute_result"
    }
   ],
   "source": [
    "#Charger les données\n",
    "data = pd.read_csv(\"combined_data_1.csv\")\n",
    "data.columns"
   ]
  },
  {
   "cell_type": "markdown",
   "metadata": {},
   "source": [
    "On peut observer qu'on possède l'identifiant du film, l'identifiant du client, la note donnée et la date. Exemple avec les 10 premières lignes du jeu de données : "
   ]
  },
  {
   "cell_type": "code",
   "execution_count": 184,
   "metadata": {},
   "outputs": [
    {
     "data": {
      "text/html": [
       "<div>\n",
       "<style scoped>\n",
       "    .dataframe tbody tr th:only-of-type {\n",
       "        vertical-align: middle;\n",
       "    }\n",
       "\n",
       "    .dataframe tbody tr th {\n",
       "        vertical-align: top;\n",
       "    }\n",
       "\n",
       "    .dataframe thead th {\n",
       "        text-align: right;\n",
       "    }\n",
       "</style>\n",
       "<table border=\"1\" class=\"dataframe\">\n",
       "  <thead>\n",
       "    <tr style=\"text-align: right;\">\n",
       "      <th></th>\n",
       "      <th>movie_id</th>\n",
       "      <th>customer_id</th>\n",
       "      <th>rating</th>\n",
       "      <th>date</th>\n",
       "    </tr>\n",
       "  </thead>\n",
       "  <tbody>\n",
       "    <tr>\n",
       "      <th>0</th>\n",
       "      <td>1</td>\n",
       "      <td>1488844</td>\n",
       "      <td>3</td>\n",
       "      <td>2005-09-06</td>\n",
       "    </tr>\n",
       "    <tr>\n",
       "      <th>1</th>\n",
       "      <td>1</td>\n",
       "      <td>822109</td>\n",
       "      <td>5</td>\n",
       "      <td>2005-05-13</td>\n",
       "    </tr>\n",
       "    <tr>\n",
       "      <th>2</th>\n",
       "      <td>1</td>\n",
       "      <td>885013</td>\n",
       "      <td>4</td>\n",
       "      <td>2005-10-19</td>\n",
       "    </tr>\n",
       "    <tr>\n",
       "      <th>3</th>\n",
       "      <td>1</td>\n",
       "      <td>30878</td>\n",
       "      <td>4</td>\n",
       "      <td>2005-12-26</td>\n",
       "    </tr>\n",
       "    <tr>\n",
       "      <th>4</th>\n",
       "      <td>1</td>\n",
       "      <td>823519</td>\n",
       "      <td>3</td>\n",
       "      <td>2004-05-03</td>\n",
       "    </tr>\n",
       "    <tr>\n",
       "      <th>5</th>\n",
       "      <td>1</td>\n",
       "      <td>893988</td>\n",
       "      <td>3</td>\n",
       "      <td>2005-11-17</td>\n",
       "    </tr>\n",
       "    <tr>\n",
       "      <th>6</th>\n",
       "      <td>1</td>\n",
       "      <td>124105</td>\n",
       "      <td>4</td>\n",
       "      <td>2004-08-05</td>\n",
       "    </tr>\n",
       "    <tr>\n",
       "      <th>7</th>\n",
       "      <td>1</td>\n",
       "      <td>1248029</td>\n",
       "      <td>3</td>\n",
       "      <td>2004-04-22</td>\n",
       "    </tr>\n",
       "    <tr>\n",
       "      <th>8</th>\n",
       "      <td>1</td>\n",
       "      <td>1842128</td>\n",
       "      <td>4</td>\n",
       "      <td>2004-05-09</td>\n",
       "    </tr>\n",
       "    <tr>\n",
       "      <th>9</th>\n",
       "      <td>1</td>\n",
       "      <td>2238063</td>\n",
       "      <td>3</td>\n",
       "      <td>2005-05-11</td>\n",
       "    </tr>\n",
       "  </tbody>\n",
       "</table>\n",
       "</div>"
      ],
      "text/plain": [
       "   movie_id  customer_id  rating        date\n",
       "0         1      1488844       3  2005-09-06\n",
       "1         1       822109       5  2005-05-13\n",
       "2         1       885013       4  2005-10-19\n",
       "3         1        30878       4  2005-12-26\n",
       "4         1       823519       3  2004-05-03\n",
       "5         1       893988       3  2005-11-17\n",
       "6         1       124105       4  2004-08-05\n",
       "7         1      1248029       3  2004-04-22\n",
       "8         1      1842128       4  2004-05-09\n",
       "9         1      2238063       3  2005-05-11"
      ]
     },
     "execution_count": 184,
     "metadata": {},
     "output_type": "execute_result"
    }
   ],
   "source": [
    "data.head(10)"
   ]
  },
  {
   "cell_type": "markdown",
   "metadata": {},
   "source": [
    "# Nombre total de notes"
   ]
  },
  {
   "cell_type": "code",
   "execution_count": 185,
   "metadata": {},
   "outputs": [
    {
     "name": "stdout",
     "output_type": "stream",
     "text": [
      "Nombre total de notes : 24053764\n"
     ]
    }
   ],
   "source": [
    "print(\"Nombre total de notes : {}\".format(data.shape[0]))"
   ]
  },
  {
   "cell_type": "markdown",
   "metadata": {},
   "source": [
    "# Nombre total d'utilisateurs"
   ]
  },
  {
   "cell_type": "code",
   "execution_count": 186,
   "metadata": {},
   "outputs": [
    {
     "name": "stdout",
     "output_type": "stream",
     "text": [
      "Nombre total d'utilisateurs : 470758\n"
     ]
    }
   ],
   "source": [
    "nb_utilisateur = data.groupby('customer_id').size().count()\n",
    "print(\"Nombre total d'utilisateurs : {}\".format(nb_utilisateur))"
   ]
  },
  {
   "cell_type": "markdown",
   "metadata": {},
   "source": [
    "# Nombre total de films"
   ]
  },
  {
   "cell_type": "code",
   "execution_count": 187,
   "metadata": {},
   "outputs": [
    {
     "name": "stdout",
     "output_type": "stream",
     "text": [
      "Nombre total de films : 4499\n"
     ]
    }
   ],
   "source": [
    "nb_films = data.groupby('movie_id').size().count()\n",
    "print(\"Nombre total de films : {}\".format(nb_films))"
   ]
  },
  {
   "cell_type": "markdown",
   "metadata": {},
   "source": [
    "# Distribution des notes"
   ]
  },
  {
   "cell_type": "code",
   "execution_count": 188,
   "metadata": {},
   "outputs": [],
   "source": [
    "notes = list(data['rating'])\n",
    "counter = Counter(notes)"
   ]
  },
  {
   "cell_type": "markdown",
   "metadata": {},
   "source": [
    "La distribution des notes est la suivante : \n",
    "* 1118186 personnes ont voté 1 \n",
    "* 2439073 personnes ont voté 2\n",
    "* 6904181 personnes ont voté 3\n",
    "* 8085741 personnes ont voté 4\n",
    "* 5506583 personnes ont voté 5"
   ]
  },
  {
   "cell_type": "code",
   "execution_count": 189,
   "metadata": {},
   "outputs": [
    {
     "data": {
      "text/plain": [
       "Text(0,0.5,'Number of ratings')"
      ]
     },
     "execution_count": 189,
     "metadata": {},
     "output_type": "execute_result"
    },
    {
     "data": {
      "image/png": "[encoded data removed]",
      "text/plain": [
       "<Figure size 432x288 with 1 Axes>"
      ]
     },
     "metadata": {},
     "output_type": "display_data"
    }
   ],
   "source": [
    "plt.bar(counter.keys(), counter.values())\n",
    "plt.xlabel('Rating')\n",
    "plt.ylabel('Number of ratings')"
   ]
  },
  {
   "cell_type": "code",
   "execution_count": 190,
   "metadata": {},
   "outputs": [],
   "source": [
    "note_par_utilisateur = data.groupby('customer_id')[\"rating\"].count()"
   ]
  },
  {
   "cell_type": "code",
   "execution_count": 191,
   "metadata": {},
   "outputs": [],
   "source": [
    "# On transforme le type : numpy.ndarray to list\n",
    "nb_note_utilisateur = list(note_par_utilisateur.values)"
   ]
  },
  {
   "cell_type": "code",
   "execution_count": 192,
   "metadata": {},
   "outputs": [
    {
     "data": {
      "text/plain": [
       "array([1488844,  822109,  885013, ..., 1017887,   72311,  594210],\n",
       "      dtype=int64)"
      ]
     },
     "execution_count": 192,
     "metadata": {},
     "output_type": "execute_result"
    }
   ],
   "source": [
    "nb = data[\"customer_id\"].unique()\n",
    "nb"
   ]
  },
  {
   "cell_type": "markdown",
   "metadata": {},
   "source": [
    "# Distribution du nombre total de notes par utilisateur"
   ]
  },
  {
   "cell_type": "code",
   "execution_count": 193,
   "metadata": {},
   "outputs": [
    {
     "name": "stdout",
     "output_type": "stream",
     "text": [
      "La valeur max du nombres de notes par utilisateur est : 4467\n"
     ]
    }
   ],
   "source": [
    "v_max = max(note_par_utilisateur.values)\n",
    "print(\"La valeur max du nombres de notes par utilisateur est :\", v_max)"
   ]
  },
  {
   "cell_type": "code",
   "execution_count": 194,
   "metadata": {},
   "outputs": [
    {
     "name": "stdout",
     "output_type": "stream",
     "text": [
      "La moyenne est de : 51.09581568449182\n"
     ]
    }
   ],
   "source": [
    "moyenne = mean(note_par_utilisateur)\n",
    "print(\"La moyenne est de :\", moyenne)"
   ]
  },
  {
   "cell_type": "code",
   "execution_count": 195,
   "metadata": {},
   "outputs": [
    {
     "name": "stdout",
     "output_type": "stream",
     "text": [
      "le point de données le plus populaire est : 2\n"
     ]
    }
   ],
   "source": [
    "#Determine le point de données le plus fréquent/ plus populaire\n",
    "mode = statistics.mode(note_par_utilisateur)\n",
    "print(\"le point de données le plus populaire est :\", mode)# Nb d'utilisateurs qui ont noté 2 fois = 17261"
   ]
  },
  {
   "cell_type": "code",
   "execution_count": 196,
   "metadata": {},
   "outputs": [
    {
     "name": "stdout",
     "output_type": "stream",
     "text": [
      "24.0\n"
     ]
    }
   ],
   "source": [
    "#Calcul de la mediane : valeur centrale \n",
    "mediane = np.median(note_par_utilisateur)\n",
    "print(mediane)\n",
    "\n",
    "\n"
   ]
  },
  {
   "cell_type": "code",
   "execution_count": 197,
   "metadata": {},
   "outputs": [
    {
     "name": "stdout",
     "output_type": "stream",
     "text": [
      "L'ecart type est de :  74.40497575476567\n"
     ]
    }
   ],
   "source": [
    "ecart = np.std(note_par_utilisateur)\n",
    "print(\"L'ecart type est de : \", ecart)"
   ]
  },
  {
   "cell_type": "code",
   "execution_count": 198,
   "metadata": {},
   "outputs": [
    {
     "name": "stdout",
     "output_type": "stream",
     "text": [
      "La variance est de :  5536.100417067268\n"
     ]
    }
   ],
   "source": [
    "variance = np.var(note_par_utilisateur)\n",
    "print(\"La variance est de : \", variance)"
   ]
  },
  {
   "cell_type": "code",
   "execution_count": 199,
   "metadata": {},
   "outputs": [
    {
     "name": "stdout",
     "output_type": "stream",
     "text": [
      "8.0\n",
      "64.0\n"
     ]
    }
   ],
   "source": [
    "quantiles1 = np.percentile(note_par_utilisateur, 25)\n",
    "print(quantiles1)\n",
    "\n",
    "quantiles2 = np.percentile(note_par_utilisateur, 75)\n",
    "print(quantiles2)\n",
    "\n"
   ]
  },
  {
   "cell_type": "code",
   "execution_count": 200,
   "metadata": {},
   "outputs": [
    {
     "data": {
      "text/plain": [
       "{'whiskers': [<matplotlib.lines.Line2D at 0x24100f44ba8>,\n",
       "  <matplotlib.lines.Line2D at 0x24100f3c080>],\n",
       " 'caps': [<matplotlib.lines.Line2D at 0x24100f3c4a8>,\n",
       "  <matplotlib.lines.Line2D at 0x24100f3c8d0>],\n",
       " 'boxes': [<matplotlib.lines.Line2D at 0x24100f44a58>],\n",
       " 'medians': [<matplotlib.lines.Line2D at 0x24100f3ccf8>],\n",
       " 'fliers': [<matplotlib.lines.Line2D at 0x24100f47160>],\n",
       " 'means': []}"
      ]
     },
     "execution_count": 200,
     "metadata": {},
     "output_type": "execute_result"
    },
    {
     "data": {
      "image/png": "[encoded data removed]",
      "text/plain": [
       "<Figure size 1440x720 with 1 Axes>"
      ]
     },
     "metadata": {},
     "output_type": "display_data"
    }
   ],
   "source": [
    "#stat = np.concatenate((ecart,mediane,quantiles1,quantiles2))\n",
    "font= {'size': 30}\n",
    "plt.rc('font',**font)\n",
    "plt.figure(figsize = (20,10))\n",
    "\n",
    "plt.boxplot(note_par_utilisateur, vert=False)"
   ]
  }
 ],
 "metadata": {
  "kernelspec": {
   "display_name": "Python 3",
   "language": "python",
   "name": "python3"
  },
  "language_info": {
   "codemirror_mode": {
    "name": "ipython",
    "version": 3
   },
   "file_extension": ".py",
   "mimetype": "text/x-python",
   "name": "python",
   "nbconvert_exporter": "python",
   "pygments_lexer": "ipython3",
   "version": "3.6.5"
  }
 },
 "nbformat": 4,
 "nbformat_minor": 2
}
