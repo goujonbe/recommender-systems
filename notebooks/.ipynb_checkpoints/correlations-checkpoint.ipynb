{
 "cells": [
  {
   "cell_type": "code",
   "execution_count": 101,
   "metadata": {},
   "outputs": [],
   "source": [
    "import pandas as pd\n",
    "import numpy as np\n",
    "import matplotlib.pyplot as plt\n",
    "from scipy.stats.stats import pearsonr\n",
    "from sklearn.metrics.pairwise import cosine_similarity"
   ]
  },
  {
   "cell_type": "code",
   "execution_count": 3,
   "metadata": {},
   "outputs": [],
   "source": [
    "# load data\n",
    "data = pd.read_csv('/data/pfe/formated/combined_data_1.csv')"
   ]
  },
  {
   "cell_type": "code",
   "execution_count": 34,
   "metadata": {},
   "outputs": [
    {
     "data": {
      "text/plain": [
       "Index(['movie_id', 'customer_id', 'rating', 'date'], dtype='object')"
      ]
     },
     "execution_count": 34,
     "metadata": {},
     "output_type": "execute_result"
    }
   ],
   "source": [
    "data.columns"
   ]
  },
  {
   "cell_type": "code",
   "execution_count": 37,
   "metadata": {},
   "outputs": [
    {
     "data": {
      "text/plain": [
       "movie_id        int64\n",
       "customer_id     int64\n",
       "rating          int64\n",
       "date           object\n",
       "dtype: object"
      ]
     },
     "execution_count": 37,
     "metadata": {},
     "output_type": "execute_result"
    }
   ],
   "source": [
    "data.dtypes"
   ]
  },
  {
   "cell_type": "code",
   "execution_count": 15,
   "metadata": {},
   "outputs": [],
   "source": [
    "# want to find the number of ratings given by each customer\n",
    "ratings_per_user = data.groupby(by='customer_id')['rating']\n",
    "no_ratings_per_user = ratings_per_user.count()\n",
    "sorted_no_ratings_per_user = no_ratings_per_user.sort_values(ascending=False)"
   ]
  },
  {
   "cell_type": "code",
   "execution_count": 16,
   "metadata": {},
   "outputs": [
    {
     "data": {
      "text/plain": [
       "customer_id\n",
       "305344     4467\n",
       "387418     4422\n",
       "2439493    4195\n",
       "1664010    4019\n",
       "2118461    3769\n",
       "1639792    2500\n",
       "1314869    2467\n",
       "1461435    2449\n",
       "1932594    2263\n",
       "2606799    2241\n",
       "Name: rating, dtype: int64"
      ]
     },
     "execution_count": 16,
     "metadata": {},
     "output_type": "execute_result"
    }
   ],
   "source": [
    "sorted_no_ratings_per_user[:10]"
   ]
  },
  {
   "cell_type": "code",
   "execution_count": 44,
   "metadata": {},
   "outputs": [
    {
     "name": "stdout",
     "output_type": "stream",
     "text": [
      "False\n"
     ]
    },
    {
     "data": {
      "text/plain": [
       "True"
      ]
     },
     "execution_count": 44,
     "metadata": {},
     "output_type": "execute_result"
    }
   ],
   "source": [
    "a = data[(data['customer_id'] == 8) & (data['movie_id'] == 1144)] \n",
    "print(a.empty)\n",
    "a = data[(data['customer_id'] == 8) & (data['movie_id'] == 1143)]\n",
    "a.empty"
   ]
  },
  {
   "cell_type": "code",
   "execution_count": 96,
   "metadata": {},
   "outputs": [],
   "source": [
    "def get_ratings_vectors(customer_1, customer_2, ratings):\n",
    "    \"\"\"returns two vectors containing the ratings given by customers given\"\"\"\n",
    "    ratings_customer_1 = []\n",
    "    ratings_customer_2 = []\n",
    "    for movie_id in range(50):\n",
    "        rating_1 = ratings[(ratings['customer_id'] == customer_1) & (ratings['movie_id'] == movie_id)]\n",
    "        rating_2 = ratings[(ratings['customer_id'] == customer_2) & (ratings['movie_id'] == movie_id)]\n",
    "        if (not rating_1.empty) and (not rating_2.empty):\n",
    "            ratings_customer_1.append(rating_1['rating'].values[0])\n",
    "            ratings_customer_2.append(rating_2['rating'].values[0])\n",
    "        else:\n",
    "            ratings_customer_1.append(0)\n",
    "            ratings_customer_2.append(0)     \n",
    "    return (ratings_customer_1, ratings_customer_2)"
   ]
  },
  {
   "cell_type": "code",
   "execution_count": 97,
   "metadata": {},
   "outputs": [],
   "source": [
    "b = get_ratings_vectors(305344, 387418, data[:500000])"
   ]
  },
  {
   "cell_type": "code",
   "execution_count": 100,
   "metadata": {},
   "outputs": [
    {
     "data": {
      "text/plain": [
       "(0.29417316661002957, 0.03811320161691284)"
      ]
     },
     "execution_count": 100,
     "metadata": {},
     "output_type": "execute_result"
    }
   ],
   "source": [
    "pearsonr(b[0], b[1])"
   ]
  },
  {
   "cell_type": "code",
   "execution_count": 105,
   "metadata": {},
   "outputs": [],
   "source": [
    "def cos_sim(a, b):\n",
    "    \"\"\"Takes 2 vectors a, b and returns the cosine similarity according to the definition of the dot product\"\"\"\n",
    "    dot_product = np.dot(a, b)\n",
    "    norm_a = np.linalg.norm(a)\n",
    "    norm_b = np.linalg.norm(b)\n",
    "    return dot_product / (norm_a * norm_b)"
   ]
  },
  {
   "cell_type": "code",
   "execution_count": 106,
   "metadata": {},
   "outputs": [
    {
     "data": {
      "text/plain": [
       "0.8092429881293245"
      ]
     },
     "execution_count": 106,
     "metadata": {},
     "output_type": "execute_result"
    }
   ],
   "source": [
    "cos_sim(b[0], b[1])"
   ]
  },
  {
   "cell_type": "code",
   "execution_count": 107,
   "metadata": {},
   "outputs": [
    {
     "data": {
      "text/plain": [
       "array([[0.80924299]])"
      ]
     },
     "execution_count": 107,
     "metadata": {},
     "output_type": "execute_result"
    }
   ],
   "source": [
    "# The usual creation of arrays produces wrong format (as cosine_similarity works on matrices)\n",
    "x = np.array(b[0])\n",
    "y = np.array(b[1])\n",
    "\n",
    "# Need to reshape these\n",
    "x = x.reshape(1,-1)\n",
    "y = y.reshape(1,-1)\n",
    "\n",
    "cosine_similarity(x,y)"
   ]
  },
  {
   "cell_type": "code",
   "execution_count": null,
   "metadata": {},
   "outputs": [],
   "source": []
  }
 ],
 "metadata": {
  "kernelspec": {
   "display_name": "Python 3",
   "language": "python",
   "name": "python3"
  },
  "language_info": {
   "codemirror_mode": {
    "name": "ipython",
    "version": 3
   },
   "file_extension": ".py",
   "mimetype": "text/x-python",
   "name": "python",
   "nbconvert_exporter": "python",
   "pygments_lexer": "ipython3",
   "version": "3.6.5"
  }
 },
 "nbformat": 4,
 "nbformat_minor": 2
}
