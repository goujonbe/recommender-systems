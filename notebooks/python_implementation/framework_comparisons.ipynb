{
 "cells": [
  {
   "cell_type": "markdown",
   "metadata": {},
   "source": [
    "# Étude comparative des frameworks spécialisés en système de recommandation\n",
    "\n",
    "Nous étudierons principalement trois frameworks :\n",
    "* Surprise\n",
    "* LightFM\n",
    "* Spotlight\n",
    "\n",
    "[Surprise](http://surpriselib.com/) est un module spécialisé dans les systèmes de recommandation qui permet d'expérimenter rapidement différents algorithmes très utilisés.\n",
    "\n",
    "[LightFM](https://github.com/lyst/lightfm) est une implémentation Python des principaux algorithmes utiles aux systèmes de recommandation. Il supporte à la fois des retours implicites et explicites de l'utilisateur. Le papier décrivant l'approche de LightFM est disponible [ici](https://arxiv.org/pdf/1507.08439.pdf).\n",
    "\n",
    "[Spotlight](https://maciejkula.github.io/spotlight/) a une approche différente et repose sur des réseaux de neurones. Il est essentiellement développé par Maciej Kula, chercheur renommé dans le domaine des systèmes de recommandation. Il utilise la librarie PyTorch.\n",
    "\n",
    "L'objectif est d'évaluer la qualité des résultats obtenus et les temps d'exécutions. "
   ]
  },
  {
   "cell_type": "markdown",
   "metadata": {},
   "source": [
    "## Surprise"
   ]
  },
  {
   "cell_type": "code",
   "execution_count": 1,
   "metadata": {},
   "outputs": [
    {
     "name": "stdout",
     "output_type": "stream",
     "text": [
      "CPU times: user 2.81 s, sys: 0 ns, total: 2.81 s\n",
      "Wall time: 2.81 s\n",
      "RMSE: 0.9414\n",
      "0.9414018563048242\n"
     ]
    }
   ],
   "source": [
    "from surprise import SVD\n",
    "from surprise import Dataset\n",
    "from surprise import accuracy\n",
    "from surprise.model_selection import train_test_split\n",
    "\n",
    "# Load the movielens-100k dataset (download it if needed),\n",
    "data = Dataset.load_builtin('ml-100k')\n",
    "\n",
    "# sample random trainset and testset\n",
    "# test set is made of 25% of the ratings.\n",
    "trainset, testset = train_test_split(data, test_size=.25)\n",
    "\n",
    "# We'll use the famous SVD algorithm.\n",
    "algo = SVD()\n",
    "\n",
    "# Train the algorithm on the trainset, and predict ratings for the testset\n",
    "%time algo.fit(trainset)\n",
    "predictions = algo.test(testset)\n",
    "\n",
    "# Then compute RMSE\n",
    "print(accuracy.rmse(predictions))"
   ]
  },
  {
   "cell_type": "markdown",
   "metadata": {},
   "source": [
    "## Light FM"
   ]
  },
  {
   "cell_type": "code",
   "execution_count": 2,
   "metadata": {},
   "outputs": [
    {
     "name": "stdout",
     "output_type": "stream",
     "text": [
      "CPU times: user 2.08 s, sys: 0 ns, total: 2.08 s\n",
      "Wall time: 1.04 s\n",
      "Test precision: 0.12\n"
     ]
    }
   ],
   "source": [
    "import numpy as np\n",
    "from lightfm.datasets import fetch_movielens\n",
    "from lightfm import LightFM\n",
    "from lightfm.evaluation import precision_at_k\n",
    "\n",
    "data = fetch_movielens(min_rating=0.5)\n",
    "\n",
    "model = LightFM(loss='warp')\n",
    "%time model.fit(data['train'], epochs=30, num_threads=2)\n",
    "\n",
    "print(\"Test precision: {:.2f}\".format(precision_at_k(model, data['test'], k=5).mean()))"
   ]
  },
  {
   "cell_type": "markdown",
   "metadata": {},
   "source": [
    "## Spotlight"
   ]
  },
  {
   "cell_type": "code",
   "execution_count": 4,
   "metadata": {},
   "outputs": [
    {
     "name": "stdout",
     "output_type": "stream",
     "text": [
      "CPU times: user 3.99 s, sys: 132 ms, total: 4.12 s\n",
      "Wall time: 587 ms\n",
      "0.99760884\n",
      "0.026511134676564158\n"
     ]
    }
   ],
   "source": [
    "from spotlight.cross_validation import random_train_test_split\n",
    "from spotlight.datasets.movielens import get_movielens_dataset\n",
    "from spotlight.evaluation import rmse_score\n",
    "from spotlight.evaluation import precision_recall_score\n",
    "from spotlight.factorization.explicit import ExplicitFactorizationModel\n",
    "\n",
    "dataset = get_movielens_dataset(variant='100K')\n",
    "\n",
    "train, test = random_train_test_split(dataset)\n",
    "\n",
    "model = ExplicitFactorizationModel(n_iter=1)\n",
    "%time model.fit(train)\n",
    "\n",
    "rmse = rmse_score(model, test)\n",
    "print(rmse)\n",
    "\n",
    "precision_at_k, recall_at_k = precision_recall_score(model, test, k=5)\n",
    "print(precision_at_k.mean())"
   ]
  }
 ],
 "metadata": {
  "kernelspec": {
   "display_name": "Python 3",
   "language": "python",
   "name": "python3"
  },
  "language_info": {
   "codemirror_mode": {
    "name": "ipython",
    "version": 3
   },
   "file_extension": ".py",
   "mimetype": "text/x-python",
   "name": "python",
   "nbconvert_exporter": "python",
   "pygments_lexer": "ipython3",
   "version": "3.6.5"
  }
 },
 "nbformat": 4,
 "nbformat_minor": 2
}
