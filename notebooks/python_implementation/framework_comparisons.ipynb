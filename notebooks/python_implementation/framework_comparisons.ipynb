{
  "cells": [
    {
      "cell_type": "markdown",
      "source": [
        "# Étude comparative des frameworks spécialisés en système de recommandation\n",
        "\n",
        "Nous étudierons principalement trois frameworks :\n",
        "* Surprise\n",
        "* LightFM\n",
        "* Spotlight\n",
        "* CaseRecommender\n",
        "\n",
        "[Surprise](http://surpriselib.com/) est un module spécialisé dans les systèmes de recommandation qui permet d'expérimenter rapidement différents algorithmes très utilisés.\n",
        "\n",
        "[LightFM](https://github.com/lyst/lightfm) est une implémentation Python des principaux algorithmes utiles aux systèmes de recommandation. Il supporte à la fois des retours implicites et explicites de l'utilisateur. Le papier décrivant l'approche de LightFM est disponible [ici](https://arxiv.org/pdf/1507.08439.pdf).\n",
        "\n",
        "[Spotlight](https://maciejkula.github.io/spotlight/) a une approche différente et repose sur des réseaux de neurones. Il est essentiellement développé par Maciej Kula, chercheur renommé dans le domaine des systèmes de recommandation. Il utilise la librarie PyTorch.\n",
        "\n",
        "[CaseRecommender](https://github.com/caserec/CaseRecommender) est, dans l'idée, assez proche de LightFM. Il met à disposition un certain nombre d'algorithmes connus de recommandation. Il supporte aussi les retours implicites comme explicites. L'approche de CaseRecommender est disponible [ici](http://www.lbd.dcc.ufmg.br/colecoes/wfa/2016/002.pdf)\n",
        "\nL'objectif est d'évaluer la qualité des résultats obtenus et les temps d'exécutions. "
      ],
      "metadata": {}
    },
    {
      "cell_type": "markdown",
      "source": [
        "## Surprise"
      ],
      "metadata": {}
    },
    {
      "cell_type": "code",
      "source": [
        "from surprise import SVD\n",
        "from surprise import Dataset\n",
        "from surprise import accuracy\n",
        "from surprise.model_selection import train_test_split\n",
        "\n",
        "# Load the movielens-100k dataset (download it if needed),\n",
        "data = Dataset.load_builtin('ml-100k')\n",
        "\n",
        "# sample random trainset and testset\n",
        "# test set is made of 25% of the ratings.\n",
        "trainset, testset = train_test_split(data, test_size=.25)\n",
        "\n",
        "# We'll use the famous SVD algorithm.\n",
        "algo = SVD()\n",
        "\n",
        "# Train the algorithm on the trainset, and predict ratings for the testset\n",
        "%time algo.fit(trainset)\n",
        "predictions = algo.test(testset)\n",
        "\n",
        "# Then compute RMSE\n",
        "print(accuracy.rmse(predictions))"
      ],
      "outputs": [
        {
          "output_type": "stream",
          "name": "stdout",
          "text": [
            "CPU times: user 5.47 s, sys: 37.2 ms, total: 5.51 s\n",
            "Wall time: 5.57 s\n",
            "RMSE: 0.9368\n",
            "0.9367797388116315\n"
          ]
        }
      ],
      "execution_count": 1,
      "metadata": {}
    },
    {
      "cell_type": "markdown",
      "source": [
        "## Light FM"
      ],
      "metadata": {}
    },
    {
      "cell_type": "code",
      "source": [
        "import numpy as np\n",
        "from lightfm.datasets import fetch_movielens\n",
        "from lightfm import LightFM\n",
        "from lightfm.evaluation import precision_at_k\n",
        "\n",
        "data = fetch_movielens(min_rating=0.5)\n",
        "\n",
        "model = LightFM(loss='warp')\n",
        "%time model.fit(data['train'], epochs=30, num_threads=2)\n",
        "\nprint(\"Test precision: {:.2f}\".format(precision_at_k(model, data['test'], k=5).mean()))"
      ],
      "outputs": [
        {
          "output_type": "stream",
          "name": "stderr",
          "text": [
            "/anaconda3/lib/python3.6/site-packages/lightfm/_lightfm_fast.py:9: UserWarning: LightFM was compiled without OpenMP support. Only a single thread will be used.\n",
            "  warnings.warn('LightFM was compiled without OpenMP support. '\n"
          ]
        },
        {
          "output_type": "stream",
          "name": "stdout",
          "text": [
            "CPU times: user 1.86 s, sys: 7.02 ms, total: 1.87 s\n",
            "Wall time: 1.88 s\n",
            "Test precision: 0.12\n"
          ]
        }
      ],
      "execution_count": 2,
      "metadata": {}
    },
    {
      "cell_type": "markdown",
      "source": [
        "## Spotlight"
      ],
      "metadata": {}
    },
    {
      "cell_type": "code",
      "source": [
        "from spotlight.cross_validation import random_train_test_split\n",
        "from spotlight.datasets.movielens import get_movielens_dataset\n",
        "from spotlight.evaluation import rmse_score\n",
        "from spotlight.evaluation import precision_recall_score\n",
        "from spotlight.factorization.explicit import ExplicitFactorizationModel\n",
        "\n",
        "dataset = get_movielens_dataset(variant='100K')\n",
        "\n",
        "train, test = random_train_test_split(dataset)\n",
        "\n",
        "model = ExplicitFactorizationModel(n_iter=1)\n",
        "%time model.fit(train)\n",
        "\n",
        "rmse = rmse_score(model, test)\n",
        "print(rmse)\n",
        "\n",
        "precision_at_k, recall_at_k = precision_recall_score(model, test, k=5)\n",
        "print(precision_at_k.mean())"
      ],
      "outputs": [
        {
          "output_type": "stream",
          "name": "stderr",
          "text": [
            "/anaconda3/lib/python3.6/site-packages/h5py/__init__.py:36: FutureWarning: Conversion of the second argument of issubdtype from `float` to `np.floating` is deprecated. In future, it will be treated as `np.float64 == np.dtype(float).type`.\n",
            "  from ._conv import register_converters as _register_converters\n"
          ]
        },
        {
          "output_type": "stream",
          "name": "stdout",
          "text": [
            "CPU times: user 3.3 s, sys: 279 ms, total: 3.58 s\n",
            "Wall time: 1.21 s\n",
            "1.0015708\n",
            "0.04553191489361702\n"
          ]
        }
      ],
      "execution_count": 3,
      "metadata": {}
    },
    {
      "cell_type": "markdown",
      "source": [
        "## CaseRecommender"
      ],
      "metadata": {}
    },
    {
      "cell_type": "code",
      "source": [
        "from caserec.utils.split_database import SplitDatabase\n",
        "from caserec.recommenders.rating_prediction.itemknn import ItemKNN\n",
        "from caserec.recommenders.rating_prediction.svd import SVD"
      ],
      "outputs": [],
      "execution_count": 4,
      "metadata": {}
    },
    {
      "cell_type": "code",
      "source": [
        "db = '/Users/alessandro/lightfm_data/movielens100k/ml-100k/u.data'\n",
        "folds_path = '/Users/alessandro/lightfm_data/movielens100k/ml-100k/'\n",
        "\n",
        "# Split the datas\n",
        "SplitDatabase(input_file=db, dir_folds=folds_path, n_splits=1).shuffle_split(test_size=0.1)\n",
        "tr = '/Users/alessandro/Desktop/ml-100k/folds/0/train.dat'\n",
        "te = '/Users/alessandro/Desktop/ml-100k/folds/0/test.dat'\n",
        "\n",
        "# Run Rating Prediction Algorithm\n",
        "ItemKNN(tr, te).compute()\n",
        "SVD(tr, te).compute()\n",
        "\n\n"
      ],
      "outputs": [
        {
          "output_type": "stream",
          "name": "stdout",
          "text": [
            "[Case Recommender: Rating Prediction > ItemKNN Algorithm]\n",
            "\n",
            "train data:: 943 users and 1659 items (90000 interactions) | sparsity:: 94.25%\n",
            "test data:: 922 users and 1269 items (10000 interactions) | sparsity:: 99.15%\n",
            "\n",
            "training_time:: 2.570840 sec\n",
            "prediction_time:: 1.842921 sec\n",
            "Eval:: MAE: 0.804285 RMSE: 1.049476 \n",
            "[Case Recommender: Rating Prediction > SVD]\n",
            "\n",
            "train data:: 943 users and 1659 items (90000 interactions) | sparsity:: 94.25%\n",
            "test data:: 922 users and 1269 items (10000 interactions) | sparsity:: 99.15%\n",
            "\n",
            "training_time:: 0.085531 sec\n",
            "prediction_time:: 0.013282 sec\n",
            "\n\n",
            "Eval:: MAE: 1.168677 RMSE: 1.490471 \n"
          ]
        }
      ],
      "execution_count": 5,
      "metadata": {}
    },
    {
      "cell_type": "code",
      "source": [],
      "outputs": [],
      "execution_count": null,
      "metadata": {}
    }
  ],
  "metadata": {
    "kernelspec": {
      "name": "python3",
      "language": "python",
      "display_name": "Python 3"
    },
    "language_info": {
      "name": "python",
      "version": "3.6.5",
      "mimetype": "text/x-python",
      "codemirror_mode": {
        "name": "ipython",
        "version": 3
      },
      "pygments_lexer": "ipython3",
      "nbconvert_exporter": "python",
      "file_extension": ".py"
    },
    "kernel_info": {
      "name": "python3"
    },
    "nteract": {
      "version": "0.12.3"
    }
  },
  "nbformat": 4,
  "nbformat_minor": 2
}