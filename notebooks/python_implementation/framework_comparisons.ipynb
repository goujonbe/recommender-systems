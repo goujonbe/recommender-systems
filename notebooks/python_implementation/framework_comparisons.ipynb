{
 "cells": [
  {
   "cell_type": "markdown",
   "metadata": {},
   "source": [
    "# Étude comparative des frameworks spécialisés en système de recommandation\n",
    "\n",
    "Nous étudierons principalement trois frameworks :\n",
    "* Surprise\n",
    "* LightFM\n",
    "* Spotlight\n",
    "* CaseRecommender\n",
    "\n",
    "[Surprise](http://surpriselib.com/) est un module spécialisé dans les systèmes de recommandation qui permet d'expérimenter rapidement différents algorithmes très utilisés.\n",
    "\n",
    "[LightFM](https://github.com/lyst/lightfm) est une implémentation Python des principaux algorithmes utiles aux systèmes de recommandation. Il supporte à la fois des retours implicites et explicites de l'utilisateur. Le papier décrivant l'approche de LightFM est disponible [ici](https://arxiv.org/pdf/1507.08439.pdf).\n",
    "\n",
    "[Spotlight](https://maciejkula.github.io/spotlight/) a une approche différente et repose sur des réseaux de neurones. Il est essentiellement développé par Maciej Kula, chercheur renommé dans le domaine des systèmes de recommandation. Il utilise la librarie PyTorch.\n",
    "\n",
    "[CaseRecommender](https://github.com/caserec/CaseRecommender) est, dans l'idée, assez proche de LightFM. Il met à disposition un certain nombre d'algorithmes connus de recommandation. Il supporte aussi les retours implicites comme explicites. L'approche de CaseRecommender est disponible [ici](http://www.lbd.dcc.ufmg.br/colecoes/wfa/2016/002.pdf)\n",
    "\n",
    "L'objectif est d'évaluer la qualité des résultats obtenus et les temps d'exécutions. "
   ]
  },
  {
   "cell_type": "markdown",
   "metadata": {},
   "source": [
    "## Surprise"
   ]
  },
  {
   "cell_type": "code",
   "execution_count": 1,
   "metadata": {},
   "outputs": [
    {
     "name": "stdout",
     "output_type": "stream",
     "text": [
      "CPU times: user 5.22 s, sys: 25.8 ms, total: 5.25 s\n",
      "Wall time: 5.28 s\n",
      "RMSE: 0.9366\n",
      "0.9365981222265428\n"
     ]
    }
   ],
   "source": [
    "from surprise import SVD\n",
    "from surprise import Dataset\n",
    "from surprise import accuracy\n",
    "from surprise.model_selection import train_test_split\n",
    "\n",
    "# Load the movielens-100k dataset (download it if needed),\n",
    "data = Dataset.load_builtin('ml-100k')\n",
    "\n",
    "# sample random trainset and testset\n",
    "# test set is made of 25% of the ratings.\n",
    "trainset, testset = train_test_split(data, test_size=.25)\n",
    "\n",
    "# We'll use the famous SVD algorithm.\n",
    "algo = SVD()\n",
    "\n",
    "# Train the algorithm on the trainset, and predict ratings for the testset\n",
    "%time algo.fit(trainset)\n",
    "predictions = algo.test(testset)\n",
    "\n",
    "# Then compute RMSE\n",
    "print(accuracy.rmse(predictions))"
   ]
  },
  {
   "cell_type": "markdown",
   "metadata": {},
   "source": [
    "## Light FM"
   ]
  },
  {
   "cell_type": "code",
   "execution_count": 2,
   "metadata": {},
   "outputs": [
    {
     "name": "stderr",
     "output_type": "stream",
     "text": [
      "/anaconda3/lib/python3.6/site-packages/lightfm/_lightfm_fast.py:9: UserWarning: LightFM was compiled without OpenMP support. Only a single thread will be used.\n",
      "  warnings.warn('LightFM was compiled without OpenMP support. '\n"
     ]
    },
    {
     "name": "stdout",
     "output_type": "stream",
     "text": [
      "CPU times: user 1.76 s, sys: 2.48 ms, total: 1.76 s\n",
      "Wall time: 1.76 s\n",
      "Test precision: 0.12\n"
     ]
    }
   ],
   "source": [
    "import numpy as np\n",
    "from lightfm.datasets import fetch_movielens\n",
    "from lightfm import LightFM\n",
    "from lightfm.evaluation import precision_at_k\n",
    "\n",
    "data = fetch_movielens(min_rating=0.5)\n",
    "\n",
    "model = LightFM(loss='warp')\n",
    "%time model.fit(data['train'], epochs=30, num_threads=2)\n",
    "\n",
    "print(\"Test precision: {:.2f}\".format(precision_at_k(model, data['test'], k=5).mean()))"
   ]
  },
  {
   "cell_type": "markdown",
   "metadata": {},
   "source": [
    "## Spotlight"
   ]
  },
  {
   "cell_type": "code",
   "execution_count": 3,
   "metadata": {},
   "outputs": [
    {
     "name": "stderr",
     "output_type": "stream",
     "text": [
      "/anaconda3/lib/python3.6/site-packages/h5py/__init__.py:36: FutureWarning: Conversion of the second argument of issubdtype from `float` to `np.floating` is deprecated. In future, it will be treated as `np.float64 == np.dtype(float).type`.\n",
      "  from ._conv import register_converters as _register_converters\n"
     ]
    },
    {
     "name": "stdout",
     "output_type": "stream",
     "text": [
      "CPU times: user 3.24 s, sys: 269 ms, total: 3.51 s\n",
      "Wall time: 1.15 s\n",
      "0.9928045\n",
      "0.036981934112646116\n"
     ]
    }
   ],
   "source": [
    "from spotlight.cross_validation import random_train_test_split\n",
    "from spotlight.datasets.movielens import get_movielens_dataset\n",
    "from spotlight.evaluation import rmse_score\n",
    "from spotlight.evaluation import precision_recall_score\n",
    "from spotlight.factorization.explicit import ExplicitFactorizationModel\n",
    "\n",
    "dataset = get_movielens_dataset(variant='100K')\n",
    "\n",
    "train, test = random_train_test_split(dataset)\n",
    "\n",
    "model = ExplicitFactorizationModel(n_iter=1)\n",
    "%time model.fit(train)\n",
    "\n",
    "rmse = rmse_score(model, test)\n",
    "print(rmse)\n",
    "\n",
    "precision_at_k, recall_at_k = precision_recall_score(model, test, k=5)\n",
    "print(precision_at_k.mean())"
   ]
  },
  {
   "cell_type": "markdown",
   "metadata": {},
   "source": [
    "## CaseRecommender"
   ]
  },
  {
   "cell_type": "code",
   "execution_count": 4,
   "metadata": {},
   "outputs": [],
   "source": [
    "from caserec.utils.split_database import SplitDatabase\n",
    "from caserec.recommenders.rating_prediction.itemknn import ItemKNN\n",
    "from caserec.recommenders.rating_prediction.svd import SVD"
   ]
  },
  {
   "cell_type": "code",
   "execution_count": 6,
   "metadata": {},
   "outputs": [
    {
     "name": "stdout",
     "output_type": "stream",
     "text": [
      "[Case Recommender: Rating Prediction > ItemKNN Algorithm]\n",
      "\n",
      "train data:: 943 users and 1659 items (90000 interactions) | sparsity:: 94.25%\n",
      "test data:: 922 users and 1269 items (10000 interactions) | sparsity:: 99.15%\n",
      "\n",
      "training_time:: 2.450613 sec\n",
      "prediction_time:: 1.755205 sec\n",
      "Eval:: MAE: 0.804285 RMSE: 1.049476 \n",
      "[Case Recommender: Rating Prediction > SVD]\n",
      "\n",
      "train data:: 943 users and 1659 items (90000 interactions) | sparsity:: 94.25%\n",
      "test data:: 922 users and 1269 items (10000 interactions) | sparsity:: 99.15%\n",
      "\n",
      "training_time:: 0.070374 sec\n",
      "prediction_time:: 0.015186 sec\n",
      "\n",
      "\n",
      "Eval:: MAE: 1.168677 RMSE: 1.490471 \n"
     ]
    }
   ],
   "source": [
    "db = '/Users/alessandro/lightfm_data/movielens100k/ml-100k/u.data'\n",
    "folds_path = '/Users/alessandro/lightfm_data/movielens100k/ml-100k/'\n",
    "\n",
    "# Split the datas\n",
    "SplitDatabase(input_file=db, dir_folds=folds_path, n_splits=1).shuffle_split(test_size=0.1)\n",
    "tr = '/Users/alessandro/Desktop/ml-100k/folds/0/train.dat'\n",
    "te = '/Users/alessandro/Desktop/ml-100k/folds/0/test.dat'\n",
    "\n",
    "# Run Rating Prediction Algorithm\n",
    "ItemKNN(tr, te).compute()\n",
    "SVD(tr, te).compute()\n",
    "\n",
    "\n"
   ]
  },
  {
   "cell_type": "code",
   "execution_count": null,
   "metadata": {},
   "outputs": [],
   "source": []
  }
 ],
 "metadata": {
  "kernelspec": {
   "display_name": "Python 3",
   "language": "python",
   "name": "python3"
  },
  "language_info": {
   "codemirror_mode": {
    "name": "ipython",
    "version": 3
   },
   "file_extension": ".py",
   "mimetype": "text/x-python",
   "name": "python",
   "nbconvert_exporter": "python",
   "pygments_lexer": "ipython3",
   "version": "3.6.5"
  }
 },
 "nbformat": 4,
 "nbformat_minor": 2
}
