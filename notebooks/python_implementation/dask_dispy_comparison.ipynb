{
 "cells": [
  {
   "cell_type": "markdown",
   "metadata": {},
   "source": [
    "# Distribution du calcul"
   ]
  },
  {
   "cell_type": "markdown",
   "metadata": {},
   "source": [
    "## Contexte\n",
    "\n",
    "L'objectif du projet était l'application de la SVD sur le dataset récupéré. Mais, il n'a pas été possible d'appliquer la SVD à notre matrice. La matrice (films,utilisateurs) étant de taille trop importante, il est impossible de la charger en mémoire, sur un seul ordinateur.\n",
    "\n",
    "Ainsi, nous avons essayer de distribuer la matrice dans un cluster, puis distribuer le calcul.\n",
    "\n",
    "Nous avons donc choisi d'utiliser *Dask* dans un premier temps puis nous avons essaye avec *Dispy*."
   ]
  },
  {
   "cell_type": "markdown",
   "metadata": {},
   "source": [
    "## Dask"
   ]
  },
  {
   "cell_type": "markdown",
   "metadata": {},
   "source": [
    "Dask permet de distribuer le calcul sur différents coeurs d'une même machine ou sur différents noeuds d'un cluster."
   ]
  },
  {
   "cell_type": "markdown",
   "metadata": {},
   "source": [
    "#### Sur une seule machine :"
   ]
  },
  {
   "cell_type": "code",
   "execution_count": null,
   "metadata": {},
   "outputs": [],
   "source": [
    "from dask.distributed import Client\n",
    "import time"
   ]
  },
  {
   "cell_type": "markdown",
   "metadata": {},
   "source": [
    "Dans un premier temps, nous avons essayé le calcul sur un même ordinateur et voir la répartition entre les différents workers.\n",
    "Pour cela, il suffit d'instancier un client Dask."
   ]
  },
  {
   "cell_type": "code",
   "execution_count": null,
   "metadata": {},
   "outputs": [],
   "source": [
    "client = Client() # mise en place du cluster sur l'ordinateur"
   ]
  },
  {
   "cell_type": "code",
   "execution_count": null,
   "metadata": {},
   "outputs": [],
   "source": [
    "client"
   ]
  },
  {
   "cell_type": "markdown",
   "metadata": {},
   "source": [
    "Dask fournit également un dashboard afin de mieux visualiser la comportement du système.\n",
    "Par défaut, le client instancie autant de workers que de cores disponibles."
   ]
  },
  {
   "cell_type": "markdown",
   "metadata": {},
   "source": [
    "Nous avons repris l'exemple fournit par Dask."
   ]
  },
  {
   "cell_type": "code",
   "execution_count": null,
   "metadata": {},
   "outputs": [],
   "source": [
    "def square(x):\n",
    "    #print(\"Process {} working square function\".format(os.getpid()))\n",
    "    result = x ** 2\n",
    "    #print(\"Process {} done processing square function\".format(os.getpid()))\n",
    "    return result"
   ]
  },
  {
   "cell_type": "code",
   "execution_count": null,
   "metadata": {},
   "outputs": [],
   "source": [
    "def neg(x):\n",
    "    return -x"
   ]
  },
  {
   "cell_type": "code",
   "execution_count": null,
   "metadata": {},
   "outputs": [],
   "source": [
    "start = time.time()\n",
    "A = client.map(square, range(10000))\n",
    "B = client.map(neg,A)\n",
    "total = client.submit(sum, B)\n",
    "stop = time.time()\n",
    "delta = stop - start\n",
    "delta"
   ]
  },
  {
   "cell_type": "code",
   "execution_count": null,
   "metadata": {},
   "outputs": [],
   "source": [
    "total"
   ]
  },
  {
   "cell_type": "markdown",
   "metadata": {},
   "source": [
    "![Dash dashboard](recommender-systems/images/dask_dashboard.png)"
   ]
  },
  {
   "cell_type": "markdown",
   "metadata": {},
   "source": [
    "On distingue donc bien les différentes tâches qui se sont exécutées sur les différents workers."
   ]
  },
  {
   "cell_type": "markdown",
   "metadata": {},
   "source": [
    "#### Au sein d'un cluster :"
   ]
  },
  {
   "cell_type": "markdown",
   "metadata": {},
   "source": [
    "Dans un second temps, nous avons voulu essayer de reproduire cela sur deux noeuds d'un cluster. \n",
    "La mise en place du cluster s'est bien déroulé. Chacun des workers était visible par le scheduler, mais nous n'avons jamais réussi distribuer le calcul dans le cluster.\n",
    "Nous n'avions qu'un seul de nos noeuds qui travaillait."
   ]
  },
  {
   "cell_type": "markdown",
   "metadata": {},
   "source": [
    "## Dispy"
   ]
  },
  {
   "cell_type": "markdown",
   "metadata": {},
   "source": [
    "Dispy permet également de distribuer les tâches d'un programme sur différents noeuds du cluster. \n",
    "C'est ce que nous avons réussi à faire pour un programme simple.\n",
    "\n",
    "Dans un premier temps, nous avons réussi à distribuer nos tâches sur deux noeuds. La répartition des tâches se faisait en fonction du nombre de coeurs de CPU. \n",
    "\n",
    "Par exemple, pour 14 tâches à exécuter, 8 étaient effectuées sur un noeuds de 8 coeurs, et 6 sur un autre noeuds disposant lui aussi 8 coeurs.\n",
    "\n",
    "\n",
    "\n"
   ]
  },
  {
   "cell_type": "markdown",
   "metadata": {},
   "source": [
    "#### Essai"
   ]
  },
  {
   "cell_type": "markdown",
   "metadata": {},
   "source": [
    "On commence par lancer un dispynode sur chacun des nodes.\n",
    "\n",
    "![Lancement du dispynode](recommender-systems/images/dispynode_terminal.png)"
   ]
  },
  {
   "cell_type": "markdown",
   "metadata": {},
   "source": [
    "Puis, on ouvre un autre terminal dans lequel on lance le programme python.\n",
    "Ce programme est écrit de sorte à distribuer les jobs ou tâches sur les différents noeuds du cluster.\n",
    "\n",
    "![Algorithme](recommender-systems/images/dispy_algo.png)"
   ]
  },
  {
   "cell_type": "markdown",
   "metadata": {},
   "source": [
    "On observe ainsi les logs du programme.\n",
    "![Computation](recommender-systems/images/dispy_script_python.png)"
   ]
  },
  {
   "cell_type": "markdown",
   "metadata": {},
   "source": [
    "#### Conclusion"
   ]
  },
  {
   "cell_type": "markdown",
   "metadata": {},
   "source": [
    "Malheureusement, nous n'avons pas pu distribuer notre programme de SVD sur différents noeuds. \n",
    "En effet, *Dispy* distribue les tâches mais dans notre cas, nous ne pouvons pas séparer nos calculs en différentes tâches. Il est nécessaire pour nous d'appliquer le calcul à l'ensemble de notre dataset.\n",
    "\n",
    "Nous en avons donc conclu que notre programme n'était finalement pas distribuable."
   ]
  },
  {
   "cell_type": "code",
   "execution_count": null,
   "metadata": {},
   "outputs": [],
   "source": []
  },
  {
   "cell_type": "code",
   "execution_count": null,
   "metadata": {},
   "outputs": [],
   "source": []
  }
 ],
 "metadata": {
  "kernelspec": {
   "display_name": "Python 3",
   "language": "python",
   "name": "python3"
  },
  "language_info": {
   "codemirror_mode": {
    "name": "ipython",
    "version": 3
   },
   "file_extension": ".py",
   "mimetype": "text/x-python",
   "name": "python",
   "nbconvert_exporter": "python",
   "pygments_lexer": "ipython3",
   "version": "3.6.5"
  }
 },
 "nbformat": 4,
 "nbformat_minor": 2
}
