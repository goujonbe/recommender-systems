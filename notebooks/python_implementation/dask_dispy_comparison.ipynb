{
  "cells": [
    {
      "cell_type": "markdown",
      "source": [
        "# Distribution du calcul"
      ],
      "metadata": {}
    },
    {
      "cell_type": "markdown",
      "source": [
        "## Contexte\n",
        "\n",
        "L'objectif du projet était l'application de la SVD sur le dataset récupéré. Mais, il n'a pas été possible d'appliquer la SVD à notre matrice. La matrice (films,utilisateurs) étant de taille trop importante, il est impossible de la charger en mémoire, sur un seul ordinateur.\n",
        "\n",
        "Ainsi, nous avons essayer de distribuer la matrice dans un cluster, puis distribuer le calcul.\n",
        "\nNous avons donc choisi d'utiliser *Dask* dans un premier temps puis nous avons essaye avec *Dispy*."
      ],
      "metadata": {}
    },
    {
      "cell_type": "markdown",
      "source": [
        "## Dask"
      ],
      "metadata": {}
    },
    {
      "cell_type": "markdown",
      "source": [
        "Dask permet de distribuer le calcul sur différents coeurs d'une même machine ou sur différents noeuds d'un cluster."
      ],
      "metadata": {}
    },
    {
      "cell_type": "markdown",
      "source": [
        "#### Sur une seule machine :"
      ],
      "metadata": {}
    },
    {
      "cell_type": "code",
      "source": [
        "from dask.distributed import Client"
      ],
      "outputs": [],
      "execution_count": 21,
      "metadata": {}
    },
    {
      "cell_type": "markdown",
      "source": [
        "Dans un premier temps, nous avons essayé le calcul sur un même ordinateur et voir la répartition entre les différents workers.\n",
        "Pour cela, il suffit d'instancier un client Dask."
      ],
      "metadata": {}
    },
    {
      "cell_type": "code",
      "source": [
        "client = Client() # mise en place du cluster sur l'ordinateur"
      ],
      "outputs": [],
      "execution_count": 22,
      "metadata": {}
    },
    {
      "cell_type": "code",
      "source": [
        "client"
      ],
      "outputs": [
        {
          "output_type": "execute_result",
          "execution_count": 23,
          "data": {
            "text/plain": [
              "<Client: scheduler='tcp://127.0.0.1:52927' processes=4 cores=4>"
            ],
            "text/html": [
              "<table style=\"border: 2px solid white;\">\n",
              "<tr>\n",
              "<td style=\"vertical-align: top; border: 0px solid white\">\n",
              "<h3>Client</h3>\n",
              "<ul>\n",
              "  <li><b>Scheduler: </b>tcp://127.0.0.1:52927\n",
              "  <li><b>Dashboard: </b><a href='http://127.0.0.1:52928/status' target='_blank'>http://127.0.0.1:52928/status</a>\n",
              "</ul>\n",
              "</td>\n",
              "<td style=\"vertical-align: top; border: 0px solid white\">\n",
              "<h3>Cluster</h3>\n",
              "<ul>\n",
              "  <li><b>Workers: </b>4</li>\n",
              "  <li><b>Cores: </b>4</li>\n",
              "  <li><b>Memory: </b>17.18 GB</li>\n",
              "</ul>\n",
              "</td>\n",
              "</tr>\n",
              "</table>"
            ]
          },
          "metadata": {}
        }
      ],
      "execution_count": 23,
      "metadata": {}
    },
    {
      "cell_type": "markdown",
      "source": [
        "Dask fournit également un dashboard afin de mieux visualiser la comportement du système.\n",
        "Par défaut, le client instancie autant de workers que de cores disponibles."
      ],
      "metadata": {}
    },
    {
      "cell_type": "markdown",
      "source": [
        "Nous avons repris l'exemple fournit par Dask."
      ],
      "metadata": {}
    },
    {
      "cell_type": "code",
      "source": [
        "def square(x):\n",
        "    #print(\"Process {} working square function\".format(os.getpid()))\n",
        "    result = x ** 2\n",
        "    #print(\"Process {} done processing square function\".format(os.getpid()))\n",
        "    return result"
      ],
      "outputs": [],
      "execution_count": 24,
      "metadata": {}
    },
    {
      "cell_type": "code",
      "source": [
        "def neg(x):\n",
        "    return -x"
      ],
      "outputs": [],
      "execution_count": 25,
      "metadata": {}
    },
    {
      "cell_type": "code",
      "source": [
        "A = client.map(square, range(10000)) # Map a function on a sequence of arguments\n",
        "B = client.map(neg,A)\n",
        "total = client.submit(sum, B) # Submit a function application to the scheduler"
      ],
      "outputs": [],
      "execution_count": 26,
      "metadata": {}
    },
    {
      "cell_type": "code",
      "source": [
        "total"
      ],
      "outputs": [
        {
          "output_type": "execute_result",
          "execution_count": 27,
          "data": {
            "text/plain": [
              "<Future: status: pending, key: sum-acc9d4bf554402c0b81eb9a548b097b2>"
            ],
            "text/html": [
              "<b>Future: sum</b> <font color=\"gray\">status: </font><font color=\"black\">pending</font>, <font color=\"gray\">key: </font>sum-acc9d4bf554402c0b81eb9a548b097b2"
            ]
          },
          "metadata": {}
        }
      ],
      "execution_count": 27,
      "metadata": {}
    },
    {
      "cell_type": "markdown",
      "source": [
        "![Dash dashboard](/Users/alessandro/Desktop/pfe/recommender-systems/images/dask_dashboard.png)"
      ],
      "metadata": {}
    },
    {
      "cell_type": "markdown",
      "source": [
        "On distingue donc bien les différentes tâches qui se sont exécutées sur les différents workers."
      ],
      "metadata": {}
    },
    {
      "cell_type": "markdown",
      "source": [
        "#### Au sein d'un cluster :"
      ],
      "metadata": {}
    },
    {
      "cell_type": "markdown",
      "source": [
        "Dans un second temps, nous avons voulu essayer de reproduire cela sur deux noeuds d'un cluster. \n",
        "La mise en place du cluster s'est bien déroulé. Chacun des workers était visible par le scheduler, mais nous n'avons jamais réussi distribuer le calcul dans le cluster.\n",
        "Nous n'avions qu'un seul de nos noeuds qui travaillait."
      ],
      "metadata": {}
    },
    {
      "cell_type": "markdown",
      "source": [
        "## Dispy"
      ],
      "metadata": {}
    },
    {
      "cell_type": "markdown",
      "source": [
        "Dispy permet également de distribuer les tâches d'un programme sur différents noeuds du cluster. \n",
        "C'est ce que nous avons réussi à faire pour un programme simple.\n",
        "\n",
        "Dans un premier temps, nous avons réussi à distribuer nos tâches sur deux noeuds. La répartition des tâches se faisait en fonction du nombre de coeurs de CPU. \n",
        "\n",
        "Par exemple, pour 14 tâches à exécuter, 8 étaient effectuées sur un noeuds de 8 coeurs, et 6 sur un autre noeuds disposant lui aussi 8 coeurs.\n",
        "\n\n\n"
      ],
      "metadata": {}
    },
    {
      "cell_type": "markdown",
      "source": [
        "#### Essai"
      ],
      "metadata": {}
    },
    {
      "cell_type": "markdown",
      "source": [
        "On commence par lancer un dispynode sur chacun des nodes.\n",
        "\n![Lancement du dispynode](/Users/alessandro/Desktop/pfe/recommender-systems/images/dispynode_terminal.png)"
      ],
      "metadata": {}
    },
    {
      "cell_type": "markdown",
      "source": [
        "Puis, on ouvre un autre terminal dans lequel on lance le programme python.\n",
        "Ce programme est écrit de sorte à distribuer les jobs ou tâches sur les différents noeuds du cluster.\n",
        "\n![Algorithme](/Users/alessandro/Desktop/pfe/recommender-systems/images/dispy_algo.png)"
      ],
      "metadata": {}
    },
    {
      "cell_type": "markdown",
      "source": [
        "On observe ainsi les logs du programme.\n",
        "![Computation](/Users/alessandro/Desktop/pfe/recommender-systems/images/dispy_script_python.png)"
      ],
      "metadata": {}
    },
    {
      "cell_type": "markdown",
      "source": [
        "#### Conclusion"
      ],
      "metadata": {}
    },
    {
      "cell_type": "markdown",
      "source": [
        "Malheureusement, nous n'avons pas pu distribuer notre programme de SVD sur différents noeuds. \n",
        "En effet, *Dispy* distribue les tâches mais dans notre cas, nous ne pouvons pas séparer nos calculs en différentes tâches. Il est nécessaire pour nous d'appliquer le calcul à l'ensemble de notre dataset.\n",
        "\nNous en avons donc conclu que notre programme n'était finalement pas distribuable."
      ],
      "metadata": {}
    },
    {
      "cell_type": "code",
      "source": [],
      "outputs": [],
      "execution_count": 11,
      "metadata": {}
    },
    {
      "cell_type": "code",
      "source": [],
      "outputs": [],
      "execution_count": null,
      "metadata": {}
    }
  ],
  "metadata": {
    "kernelspec": {
      "name": "python3",
      "language": "python",
      "display_name": "Python 3"
    },
    "language_info": {
      "name": "python",
      "version": "3.6.5",
      "mimetype": "text/x-python",
      "codemirror_mode": {
        "name": "ipython",
        "version": 3
      },
      "pygments_lexer": "ipython3",
      "nbconvert_exporter": "python",
      "file_extension": ".py"
    },
    "kernel_info": {
      "name": "python3"
    },
    "nteract": {
      "version": "0.12.3"
    }
  },
  "nbformat": 4,
  "nbformat_minor": 2
}