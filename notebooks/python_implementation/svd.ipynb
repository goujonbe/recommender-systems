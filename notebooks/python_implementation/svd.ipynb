{
 "cells": [
  {
   "cell_type": "markdown",
   "metadata": {},
   "source": [
    "# SVD – Décomposition en valeurs singulières"
   ]
  },
  {
   "cell_type": "markdown",
   "metadata": {},
   "source": [
    "### Théorie mathématique\n"
   ]
  },
  {
   "cell_type": "markdown",
   "metadata": {},
   "source": [
    "La théorie mathématique dit que :\n",
    "    \n",
    "Soit M $\\in$ $\\mathbb{R}^{n \\times p}$. On peut trouver :\n",
    "\n",
    "   - U $\\in$ $\\mathbb{R}^{n \\times n}$ et V $\\in$ $\\mathbb{R}^{p \\times p}$, orthogonales (UU$^\\intercal$ = 0, VV$^\\intercal$ = 0)\n",
    "   - Une matrice 'diagonale' $\\Sigma$ $\\in$ $\\mathbb{R}^{n \\times p}$ de coefficients diagonaux positifs ou nuls, \n",
    "telle que \n",
    "\n",
    "\\begin{equation}\n",
    "   M = U \\Sigma V^\\intercal\n",
    "\\end{equation}\n",
    "\n",
    "Cette décomposition est la SVD de M.\n",
    "\n",
    "On a alors : \n",
    "\n",
    "\n",
    "\\begin{equation}\n",
    "\\Sigma = \n",
    "\\begin{pmatrix}\n",
    "\\begin{array}{c c c | c}\n",
    "\\sigma_1  &    0    &    0   & \\\\\n",
    "    0     & \\ddots  &    0   &  0\\\\ \n",
    "    0     &  0    & \\sigma_n & \\\\\n",
    " \\end{array}\n",
    "\\end{pmatrix}\n",
    "\\end{equation}\n",
    "\n",
    "\n",
    "\\begin{equation}\n",
    "\\Sigma = \n",
    "\\begin{pmatrix}\n",
    "\\begin{array}{c c c}\n",
    "\\sigma_1  &    0    &    0    \\\\\n",
    "    0     & \\ddots  &    0    \\\\ \n",
    "    0     &    0    & \\sigma_p  \\\\ \\hline \n",
    "          &    0    &\n",
    " \\end{array}\n",
    "\\end{pmatrix}\n",
    "\\end{equation}\n"
   ]
  },
  {
   "cell_type": "markdown",
   "metadata": {},
   "source": [
    "Voici un exemple simple de SVD avec Numpy."
   ]
  },
  {
   "cell_type": "code",
   "execution_count": 44,
   "metadata": {},
   "outputs": [
    {
     "name": "stdout",
     "output_type": "stream",
     "text": [
      "U = [[-0.3863177  -0.92236578]\n",
      " [-0.92236578  0.3863177 ]]\n"
     ]
    }
   ],
   "source": [
    "import numpy as np\n",
    "from numpy import linalg\n",
    "M = np.matrix([[1, 2, 3], [4, 5, 6]])\n",
    "U, s, V = linalg.svd(M)\n",
    "\n",
    "print('U = {}'.format(np.array(U)))"
   ]
  },
  {
   "cell_type": "code",
   "execution_count": 45,
   "metadata": {},
   "outputs": [
    {
     "name": "stdout",
     "output_type": "stream",
     "text": [
      "s = [9.508032   0.77286964]\n"
     ]
    }
   ],
   "source": [
    "print('s = {}'.format(np.array(s)))"
   ]
  },
  {
   "cell_type": "code",
   "execution_count": 46,
   "metadata": {},
   "outputs": [
    {
     "name": "stdout",
     "output_type": "stream",
     "text": [
      "V = [[-0.42866713 -0.56630692 -0.7039467 ]\n",
      " [ 0.80596391  0.11238241 -0.58119908]\n",
      " [ 0.40824829 -0.81649658  0.40824829]]\n"
     ]
    }
   ],
   "source": [
    "print('V = {}'.format(np.array(V)))"
   ]
  },
  {
   "cell_type": "code",
   "execution_count": 2,
   "metadata": {},
   "outputs": [],
   "source": [
    "import pandas as pd\n",
    "from surprise import Reader\n",
    "from surprise import SVD\n",
    "from surprise import Dataset\n",
    "from surprise import accuracy\n",
    "from surprise.model_selection import train_test_split"
   ]
  },
  {
   "cell_type": "code",
   "execution_count": 3,
   "metadata": {},
   "outputs": [],
   "source": [
    "reader = Reader(rating_scale=(1,5))"
   ]
  },
  {
   "cell_type": "code",
   "execution_count": 4,
   "metadata": {},
   "outputs": [
    {
     "data": {
      "text/html": [
       "<div>\n",
       "<style scoped>\n",
       "    .dataframe tbody tr th:only-of-type {\n",
       "        vertical-align: middle;\n",
       "    }\n",
       "\n",
       "    .dataframe tbody tr th {\n",
       "        vertical-align: top;\n",
       "    }\n",
       "\n",
       "    .dataframe thead th {\n",
       "        text-align: right;\n",
       "    }\n",
       "</style>\n",
       "<table border=\"1\" class=\"dataframe\">\n",
       "  <thead>\n",
       "    <tr style=\"text-align: right;\">\n",
       "      <th></th>\n",
       "      <th>movie_id</th>\n",
       "      <th>customer_id</th>\n",
       "      <th>rating</th>\n",
       "      <th>date</th>\n",
       "    </tr>\n",
       "  </thead>\n",
       "  <tbody>\n",
       "    <tr>\n",
       "      <th>0</th>\n",
       "      <td>15093</td>\n",
       "      <td>294081</td>\n",
       "      <td>5</td>\n",
       "      <td>2004-01-21</td>\n",
       "    </tr>\n",
       "    <tr>\n",
       "      <th>1</th>\n",
       "      <td>2743</td>\n",
       "      <td>1965814</td>\n",
       "      <td>4</td>\n",
       "      <td>2005-08-23</td>\n",
       "    </tr>\n",
       "    <tr>\n",
       "      <th>2</th>\n",
       "      <td>3624</td>\n",
       "      <td>2143181</td>\n",
       "      <td>4</td>\n",
       "      <td>2004-07-15</td>\n",
       "    </tr>\n",
       "    <tr>\n",
       "      <th>3</th>\n",
       "      <td>17295</td>\n",
       "      <td>2218945</td>\n",
       "      <td>4</td>\n",
       "      <td>2005-04-14</td>\n",
       "    </tr>\n",
       "    <tr>\n",
       "      <th>4</th>\n",
       "      <td>12355</td>\n",
       "      <td>187135</td>\n",
       "      <td>3</td>\n",
       "      <td>2005-12-01</td>\n",
       "    </tr>\n",
       "  </tbody>\n",
       "</table>\n",
       "</div>"
      ],
      "text/plain": [
       "   movie_id  customer_id  rating        date\n",
       "0     15093       294081       5  2004-01-21\n",
       "1      2743      1965814       4  2005-08-23\n",
       "2      3624      2143181       4  2004-07-15\n",
       "3     17295      2218945       4  2005-04-14\n",
       "4     12355       187135       3  2005-12-01"
      ]
     },
     "execution_count": 4,
     "metadata": {},
     "output_type": "execute_result"
    }
   ],
   "source": [
    "ratings = pd.read_csv('/Users/alessandro/Desktop/pfe/samples/samples100k/sample0.csv')\n",
    "ratings.head(5)"
   ]
  },
  {
   "cell_type": "code",
   "execution_count": 60,
   "metadata": {},
   "outputs": [],
   "source": [
    "# Transform the dataframe in a dataset object\n",
    "data = Dataset.load_from_df(ratings[['customer_id', 'movie_id', 'rating']], reader)"
   ]
  },
  {
   "cell_type": "code",
   "execution_count": 48,
   "metadata": {},
   "outputs": [],
   "source": [
    "# sample random trainset and testset\n",
    "# test set is made of 20% of the ratings.\n",
    "trainset, testset = train_test_split(data, test_size=.20)"
   ]
  },
  {
   "cell_type": "markdown",
   "metadata": {},
   "source": [
    "L'algo de SVD va permettre de réduire les composantes d'un dataset en reduisant les dimensions de la matrice. De cet algo et des 3 matrices qu'il nous reste, on va pouvoir faire des prédictions."
   ]
  },
  {
   "cell_type": "markdown",
   "metadata": {},
   "source": [
    "On a donc : \n",
    "\\begin{equation}\n",
    "   M = U \\Sigma V^\\intercal\n",
    "\\end{equation}\n"
   ]
  },
  {
   "cell_type": "markdown",
   "metadata": {},
   "source": [
    "On pose : \n",
    "\n",
    "- $U^{n \\times r}$ la matrice des valeurs singulières à gauche avec *n* les films et *r* les \"features\" du film.\n",
    "- $\\Sigma^{r \\times r}$ la matrice diagonale des valeurs singulières.\n",
    "- $V^{n \\times r}$ la matrice des valeurs singulières à droite avec *n* les utilsiateurs et *r* les \"features\" de chaque utilisateur."
   ]
  },
  {
   "cell_type": "markdown",
   "metadata": {},
   "source": [
    "L'algorithme de SVD a pour rôle de réduire les dimensions de notre matrice et en faisant cela, il représente les profils des utilisateurs mais aussi les profils des différents films.\n",
    "\n",
    "La contrainte est que notre matrice est **sparse**, elle est lacunaire. Ainsi la SVD de notre matrice n'existe pas."
   ]
  },
  {
   "cell_type": "markdown",
   "metadata": {},
   "source": [
    "Cependant, il est possible de déterminer U et V si l'on arrive à déterminer les vecteurs $p_u$ et $q_i$. Ces vecteurs composent respectivement les lignes de U et les colonnes de V$^\\intercal$."
   ]
  },
  {
   "cell_type": "markdown",
   "metadata": {},
   "source": [
    "Pour trouver les vecteurs $p_u$ et $q_i$, on doit résoudre ce problème d'optimisation et utiliser le SGD (Stochastic Gradient Descent) :\n",
    "\\begin{equation}\n",
    "    (\\min \\sum_{r_{ui} \\in R} (r_{ui} - p_u \\cdot q_i)^2) \\text{ tel que $r_ui = p_u \\cdotp q_i$}\n",
    "\\end{equation} \n",
    "\n",
    "\n",
    "Le SGD nous permet de trouver plus simplement le minimum d'un fonction.\n",
    "Dans notre cas, l'équation donne :\n",
    "\n",
    "\\begin{equation}\n",
    "\\sum_{r_{ui} \\in R} (r_{ui} - p_u \\cdot q_i)^2 =\\sum_{r_{ui}\n",
    "\\in R} f_{ui}(p_u, q_i)\n",
    "\\end{equation}\n"
   ]
  },
  {
   "cell_type": "markdown",
   "metadata": {},
   "source": [
    "Une fois $p_u$ et $q_i$ calculés, on peut estimer les notes utilisateurs par la formule: \n",
    "\\begin{equation}\n",
    "\\hat{r}_{ui} = p_u \\cdot q_i\n",
    "\\end{equation}\n"
   ]
  },
  {
   "cell_type": "code",
   "execution_count": 49,
   "metadata": {},
   "outputs": [],
   "source": [
    "# We'll use the famous SVD algorithm.\n",
    "algo = SVD()"
   ]
  },
  {
   "cell_type": "code",
   "execution_count": 50,
   "metadata": {},
   "outputs": [
    {
     "data": {
      "text/plain": [
       "<surprise.prediction_algorithms.matrix_factorization.SVD at 0x107d68b38>"
      ]
     },
     "execution_count": 50,
     "metadata": {},
     "output_type": "execute_result"
    }
   ],
   "source": [
    "# Train the algorithm on the trainset, and predict ratings for the testset\n",
    "algo.fit(trainset)"
   ]
  },
  {
   "cell_type": "code",
   "execution_count": 51,
   "metadata": {},
   "outputs": [],
   "source": [
    "predictions = algo.test(testset)"
   ]
  },
  {
   "cell_type": "markdown",
   "metadata": {},
   "source": [
    "On calcul l'erreur quadratique moyenne (RMSE — Root Mean Square Error) qui en quelque sorte est une moyenne des erreurs de prediction.\n",
    "\n",
    "\\begin{equation}\n",
    "RMSE = \\sqrt{\\sum_{u,i} (\\hat{r}_{ui} - r_{ui})^2}\n",
    "\\end{equation}\n"
   ]
  },
  {
   "cell_type": "code",
   "execution_count": 52,
   "metadata": {},
   "outputs": [
    {
     "name": "stdout",
     "output_type": "stream",
     "text": [
      "RMSE: 1.0435\n"
     ]
    },
    {
     "data": {
      "text/plain": [
       "1.0435263512740693"
      ]
     },
     "execution_count": 52,
     "metadata": {},
     "output_type": "execute_result"
    }
   ],
   "source": [
    "# Then compute RMSE (Root Mean Square Error), wich is some sort of average error, where big errors are heavily penalized\n",
    "accuracy.rmse(predictions)"
   ]
  },
  {
   "cell_type": "code",
   "execution_count": null,
   "metadata": {},
   "outputs": [],
   "source": []
  }
 ],
 "metadata": {
  "kernelspec": {
   "display_name": "Python 3",
   "language": "python",
   "name": "python3"
  },
  "language_info": {
   "codemirror_mode": {
    "name": "ipython",
    "version": 3
   },
   "file_extension": ".py",
   "mimetype": "text/x-python",
   "name": "python",
   "nbconvert_exporter": "python",
   "pygments_lexer": "ipython3",
   "version": "3.6.5"
  }
 },
 "nbformat": 4,
 "nbformat_minor": 2
}
