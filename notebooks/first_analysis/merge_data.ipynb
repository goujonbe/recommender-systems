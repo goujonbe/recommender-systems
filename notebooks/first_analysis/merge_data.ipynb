{
 "cells": [
  {
   "cell_type": "code",
   "execution_count": 4,
   "metadata": {},
   "outputs": [],
   "source": [
    "import pandas as pd\n",
    "import csv"
   ]
  },
  {
   "cell_type": "code",
   "execution_count": 5,
   "metadata": {},
   "outputs": [],
   "source": [
    "def convert_txt_to_csv(txt_filepath, csv_filepath):\n",
    "    \"\"\"function that creates a csv file from a txt file.\"\"\"\n",
    "    with open(txt_filepath, 'r') as txtfile, open(csv_filepath, 'w') as csvfile:\n",
    "        csvwriter = csv.writer(csvfile, delimiter=',')\n",
    "        csvwriter.writerow(['movie_id', 'customer_id', 'rating', 'date'])\n",
    "        alllines = txtfile.readlines()\n",
    "        movie_id = 0\n",
    "        for line in alllines:\n",
    "            line = line.strip('\\n')\n",
    "            if ':' in line:\n",
    "                movie_id = line.strip(':')\n",
    "            else:\n",
    "                values = line.split(',') # split the line in 3 values inside a list : customer_id, rating, date\n",
    "                values.insert(0,movie_id) # insert the movie id at the beginning \n",
    "                csvwriter.writerow(values)\n",
    "            "
   ]
  },
  {
   "cell_type": "code",
   "execution_count": 6,
   "metadata": {},
   "outputs": [],
   "source": [
    "# script to reformat each file as a csv file\n",
    "for i in range(1,5):\n",
    "    convert_txt_to_csv('/data/pfe/not_formated/combined_data_{}.txt'.format(i), '/data/pfe/formated/combined_data_{}.csv'.format(i))"
   ]
  },
  {
   "cell_type": "code",
   "execution_count": 7,
   "metadata": {},
   "outputs": [],
   "source": [
    "# concatenate all files into a single file\n",
    "frames = []\n",
    "\n",
    "# get data\n",
    "for i in range(1,5):\n",
    "    frame = pd.read_csv('/data/pfe/formated/combined_data_{}.csv'.format(i))\n",
    "    frames.append(frame)\n",
    "    \n",
    "# concatenate into one dataframe\n",
    "result = pd.concat(frames)\n",
    "\n",
    "# write data into the final file\n",
    "result.to_csv('/data/pfe/formated/merged_data.csv')"
   ]
  }
 ],
 "metadata": {
  "kernelspec": {
   "display_name": "Python 3",
   "language": "python",
   "name": "python3"
  },
  "language_info": {
   "codemirror_mode": {
    "name": "ipython",
    "version": 3
   },
   "file_extension": ".py",
   "mimetype": "text/x-python",
   "name": "python",
   "nbconvert_exporter": "python",
   "pygments_lexer": "ipython3",
   "version": "3.6.5"
  }
 },
 "nbformat": 4,
 "nbformat_minor": 2
}
