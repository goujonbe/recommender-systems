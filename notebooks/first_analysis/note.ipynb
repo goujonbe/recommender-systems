{
 "cells": [
  {
   "cell_type": "markdown",
   "metadata": {},
   "source": [
    "# Exploration des données\n",
    "L'objectif de ce Notebook est d'explorer le dataset de Netflix (echantillon numéro 1) en repondant aux questions suivantes : \n",
    "* Quel est le nombre total de notes ?\n",
    "* Quel est le nombre total d'utilisateurs ?\n",
    "* Quel est le nombre total de films ?\n",
    "* Comment sont distribuées les notes ?\n",
    "* Comment est distribué le nombre total de notes par utilisateur ?\n"
   ]
  },
  {
   "cell_type": "code",
   "execution_count": 1,
   "metadata": {},
   "outputs": [],
   "source": [
    "#Module pour charger et manipuler les données\n",
    "import pandas as pd \n",
    "#Module pour calculer les statistiques\n",
    "import numpy as np\n",
    "#Module pour generer les graphes\n",
    "import matplotlib.pyplot as plt\n",
    "#Module pour calculer le mode\n",
    "import statistics\n",
    "# Module pour calculer des métriques statistiques\n",
    "from scipy import stats\n",
    "from collections import Counter\n",
    "\n",
    "#Afficher les graphes directement\n",
    "%matplotlib inline"
   ]
  },
  {
   "cell_type": "code",
   "execution_count": 2,
   "metadata": {},
   "outputs": [
    {
     "data": {
      "text/plain": [
       "Index(['Unnamed: 0', 'movie_id', 'customer_id', 'rating', 'date'], dtype='object')"
      ]
     },
     "execution_count": 2,
     "metadata": {},
     "output_type": "execute_result"
    }
   ],
   "source": [
    "#load the data\n",
    "data = pd.read_csv(\"/data/pfe/formated/merged_data.csv\")\n",
    "data.columns"
   ]
  },
  {
   "cell_type": "markdown",
   "metadata": {},
   "source": [
    "On peut observer qu'on possède l'identifiant du film, l'identifiant du client, la note donnée et la date. Exemple avec les 10 premières lignes du jeu de données : "
   ]
  },
  {
   "cell_type": "code",
   "execution_count": 3,
   "metadata": {},
   "outputs": [],
   "source": [
    "data['date'] = pd.to_datetime(data['date'])"
   ]
  },
  {
   "cell_type": "code",
   "execution_count": 4,
   "metadata": {},
   "outputs": [
    {
     "data": {
      "text/html": [
       "<div>\n",
       "<style scoped>\n",
       "    .dataframe tbody tr th:only-of-type {\n",
       "        vertical-align: middle;\n",
       "    }\n",
       "\n",
       "    .dataframe tbody tr th {\n",
       "        vertical-align: top;\n",
       "    }\n",
       "\n",
       "    .dataframe thead th {\n",
       "        text-align: right;\n",
       "    }\n",
       "</style>\n",
       "<table border=\"1\" class=\"dataframe\">\n",
       "  <thead>\n",
       "    <tr style=\"text-align: right;\">\n",
       "      <th></th>\n",
       "      <th>Unnamed: 0</th>\n",
       "      <th>movie_id</th>\n",
       "      <th>customer_id</th>\n",
       "      <th>rating</th>\n",
       "      <th>date</th>\n",
       "    </tr>\n",
       "  </thead>\n",
       "  <tbody>\n",
       "    <tr>\n",
       "      <th>0</th>\n",
       "      <td>0</td>\n",
       "      <td>1</td>\n",
       "      <td>1488844</td>\n",
       "      <td>3</td>\n",
       "      <td>2005-09-06</td>\n",
       "    </tr>\n",
       "    <tr>\n",
       "      <th>1</th>\n",
       "      <td>1</td>\n",
       "      <td>1</td>\n",
       "      <td>822109</td>\n",
       "      <td>5</td>\n",
       "      <td>2005-05-13</td>\n",
       "    </tr>\n",
       "    <tr>\n",
       "      <th>2</th>\n",
       "      <td>2</td>\n",
       "      <td>1</td>\n",
       "      <td>885013</td>\n",
       "      <td>4</td>\n",
       "      <td>2005-10-19</td>\n",
       "    </tr>\n",
       "    <tr>\n",
       "      <th>3</th>\n",
       "      <td>3</td>\n",
       "      <td>1</td>\n",
       "      <td>30878</td>\n",
       "      <td>4</td>\n",
       "      <td>2005-12-26</td>\n",
       "    </tr>\n",
       "    <tr>\n",
       "      <th>4</th>\n",
       "      <td>4</td>\n",
       "      <td>1</td>\n",
       "      <td>823519</td>\n",
       "      <td>3</td>\n",
       "      <td>2004-05-03</td>\n",
       "    </tr>\n",
       "    <tr>\n",
       "      <th>5</th>\n",
       "      <td>5</td>\n",
       "      <td>1</td>\n",
       "      <td>893988</td>\n",
       "      <td>3</td>\n",
       "      <td>2005-11-17</td>\n",
       "    </tr>\n",
       "    <tr>\n",
       "      <th>6</th>\n",
       "      <td>6</td>\n",
       "      <td>1</td>\n",
       "      <td>124105</td>\n",
       "      <td>4</td>\n",
       "      <td>2004-08-05</td>\n",
       "    </tr>\n",
       "    <tr>\n",
       "      <th>7</th>\n",
       "      <td>7</td>\n",
       "      <td>1</td>\n",
       "      <td>1248029</td>\n",
       "      <td>3</td>\n",
       "      <td>2004-04-22</td>\n",
       "    </tr>\n",
       "    <tr>\n",
       "      <th>8</th>\n",
       "      <td>8</td>\n",
       "      <td>1</td>\n",
       "      <td>1842128</td>\n",
       "      <td>4</td>\n",
       "      <td>2004-05-09</td>\n",
       "    </tr>\n",
       "    <tr>\n",
       "      <th>9</th>\n",
       "      <td>9</td>\n",
       "      <td>1</td>\n",
       "      <td>2238063</td>\n",
       "      <td>3</td>\n",
       "      <td>2005-05-11</td>\n",
       "    </tr>\n",
       "  </tbody>\n",
       "</table>\n",
       "</div>"
      ],
      "text/plain": [
       "   Unnamed: 0  movie_id  customer_id  rating       date\n",
       "0           0         1      1488844       3 2005-09-06\n",
       "1           1         1       822109       5 2005-05-13\n",
       "2           2         1       885013       4 2005-10-19\n",
       "3           3         1        30878       4 2005-12-26\n",
       "4           4         1       823519       3 2004-05-03\n",
       "5           5         1       893988       3 2005-11-17\n",
       "6           6         1       124105       4 2004-08-05\n",
       "7           7         1      1248029       3 2004-04-22\n",
       "8           8         1      1842128       4 2004-05-09\n",
       "9           9         1      2238063       3 2005-05-11"
      ]
     },
     "execution_count": 4,
     "metadata": {},
     "output_type": "execute_result"
    }
   ],
   "source": [
    "data.head(10)"
   ]
  },
  {
   "cell_type": "markdown",
   "metadata": {},
   "source": [
    "# Nombre total de notes"
   ]
  },
  {
   "cell_type": "code",
   "execution_count": 5,
   "metadata": {},
   "outputs": [
    {
     "name": "stdout",
     "output_type": "stream",
     "text": [
      "Nombre total de notes : 100480507\n"
     ]
    }
   ],
   "source": [
    "print(\"Nombre total de notes : {}\".format(data.shape[0]))"
   ]
  },
  {
   "cell_type": "markdown",
   "metadata": {},
   "source": [
    "# Nombre total d'utilisateurs"
   ]
  },
  {
   "cell_type": "code",
   "execution_count": 6,
   "metadata": {},
   "outputs": [
    {
     "name": "stdout",
     "output_type": "stream",
     "text": [
      "Nombre total d'utilisateurs : 480189\n"
     ]
    }
   ],
   "source": [
    "nb_utilisateur = data['customer_id'].nunique()\n",
    "print(\"Nombre total d'utilisateurs : {}\".format(nb_utilisateur))"
   ]
  },
  {
   "cell_type": "markdown",
   "metadata": {},
   "source": [
    "# Nombre total de films"
   ]
  },
  {
   "cell_type": "code",
   "execution_count": 7,
   "metadata": {},
   "outputs": [
    {
     "name": "stdout",
     "output_type": "stream",
     "text": [
      "Nombre total de films : 17770\n"
     ]
    }
   ],
   "source": [
    "nb_films = data['movie_id'].nunique()\n",
    "print(\"Nombre total de films : {}\".format(nb_films))"
   ]
  },
  {
   "cell_type": "markdown",
   "metadata": {},
   "source": [
    "# Distribution des notes\n",
    "\n",
    "L'objectif est ici d'étudier le nombre de 1, de 2, de 3, de 4 et de 5. Cela nous donnera une tendance de la manière dont les gens notent les films et séries sur Netflix."
   ]
  },
  {
   "cell_type": "code",
   "execution_count": 8,
   "metadata": {},
   "outputs": [],
   "source": [
    "counter = data['rating'].value_counts()"
   ]
  },
  {
   "cell_type": "code",
   "execution_count": 9,
   "metadata": {},
   "outputs": [
    {
     "data": {
      "text/plain": [
       "Text(0,0.5,'Number of ratings')"
      ]
     },
     "execution_count": 9,
     "metadata": {},
     "output_type": "execute_result"
    },
    {
     "data": {
      "image/png": "[encoded data removed]",
      "text/plain": [
       "<Figure size 432x288 with 1 Axes>"
      ]
     },
     "metadata": {},
     "output_type": "display_data"
    }
   ],
   "source": [
    "plt.bar(counter.index, counter.values)\n",
    "plt.xlabel('Rating')\n",
    "plt.ylabel('Number of ratings')"
   ]
  },
  {
   "cell_type": "markdown",
   "metadata": {},
   "source": [
    "On remarque que la note la plus donnée est 4. Et il y a une forte concentration des notes au dessus de 3. On en déduit que les utilisateurs de Netflix ont plutôt tendance à noter le programme regardé lorsqu'ils l'ont apprécié. Il faut garder cela à l'esprit car cela peut introduire des biais dans notre systèmes de recommandation."
   ]
  },
  {
   "cell_type": "markdown",
   "metadata": {},
   "source": [
    "# Distribution du nombre total de notes par utilisateur\n",
    "\n",
    "L'objectif de cette partie est de déterminer les statistisques sur le nombre de notes donné par utilisateur. Cela a une importance primordiale car les notes des utilisateurs constituent les données d'entraînement et plus elles seront fournies, plus le modèle de Machine Learning sera performant."
   ]
  },
  {
   "cell_type": "code",
   "execution_count": 10,
   "metadata": {},
   "outputs": [
    {
     "name": "stdout",
     "output_type": "stream",
     "text": [
      "count    480189.000000\n",
      "mean        209.251997\n",
      "std         302.339155\n",
      "min           1.000000\n",
      "25%          39.000000\n",
      "50%          96.000000\n",
      "75%         259.000000\n",
      "max       17653.000000\n",
      "Name: rating, dtype: float64\n"
     ]
    }
   ],
   "source": [
    "nb_notes_utilisateur = data.groupby('customer_id')[\"rating\"].count()\n",
    "print(nb_notes_utilisateur.describe())"
   ]
  },
  {
   "cell_type": "code",
   "execution_count": 11,
   "metadata": {},
   "outputs": [
    {
     "name": "stdout",
     "output_type": "stream",
     "text": [
      "L'utilisateur ayant donné le plus de notes a donné 17653 notes\n"
     ]
    }
   ],
   "source": [
    "v_max = max(nb_notes_utilisateur)\n",
    "print(\"L'utilisateur ayant donné le plus de notes a donné {} notes\".format(v_max))"
   ]
  },
  {
   "cell_type": "code",
   "execution_count": 12,
   "metadata": {},
   "outputs": [
    {
     "name": "stdout",
     "output_type": "stream",
     "text": [
      "L'utilisateur ayant donné le moins de notes a donné 1 note\n"
     ]
    }
   ],
   "source": [
    "v_min = min(nb_notes_utilisateur)\n",
    "print(\"L'utilisateur ayant donné le moins de notes a donné {} note\".format(v_min))"
   ]
  },
  {
   "cell_type": "markdown",
   "metadata": {},
   "source": [
    "On voit que l'écart est significatif entre l'utilisateur ayant donné le plus de notes et celui qui en a donné le moins. Il sera très compliqué de prédire un programme pour un utilisateur ayant donné quasiment aucune indication sur ses goûts."
   ]
  },
  {
   "cell_type": "code",
   "execution_count": 13,
   "metadata": {},
   "outputs": [
    {
     "name": "stdout",
     "output_type": "stream",
     "text": [
      "La moyenne est de : 209.25\n"
     ]
    }
   ],
   "source": [
    "moyenne = np.mean(nb_notes_utilisateur)\n",
    "print(\"La moyenne est de : {0:.2f}\".format(moyenne))"
   ]
  },
  {
   "cell_type": "code",
   "execution_count": 14,
   "metadata": {},
   "outputs": [
    {
     "name": "stdout",
     "output_type": "stream",
     "text": [
      "La note la plus donnée est : 18\n"
     ]
    }
   ],
   "source": [
    "#Determine le point de données le plus fréquent/ plus populaire\n",
    "mode = statistics.mode(nb_notes_utilisateur)\n",
    "print(\"La note la plus donnée est :\", mode)# Nb d'utilisateurs qui ont noté 2 fois = 17261"
   ]
  },
  {
   "cell_type": "markdown",
   "metadata": {},
   "source": [
    "Ceci est une donnée intéressante qu'il faut garder à l'esprit. Les utilisateurs semblent avoir donné peu de notes. Cela va donc être compliqué de recommander avec ci peu d'information sur leurs goûts."
   ]
  },
  {
   "cell_type": "code",
   "execution_count": 15,
   "metadata": {},
   "outputs": [
    {
     "name": "stdout",
     "output_type": "stream",
     "text": [
      "50 % des utilisateurs ont donné 96 notes ou moins\n"
     ]
    }
   ],
   "source": [
    "#Calcul de la mediane : valeur centrale \n",
    "mediane = np.median(nb_notes_utilisateur)\n",
    "print(\"50 % des utilisateurs ont donné {} notes ou moins\".format(int(mediane)))"
   ]
  },
  {
   "cell_type": "markdown",
   "metadata": {},
   "source": [
    "Cette donnée va dans le même sens que les précédentes et confirme que le jeu de données pour l'entraînement est constitué d'utilsateurs ayant donné peu de notes."
   ]
  },
  {
   "cell_type": "code",
   "execution_count": 16,
   "metadata": {},
   "outputs": [
    {
     "name": "stdout",
     "output_type": "stream",
     "text": [
      "L'ecart type est d'environ 302.34\n"
     ]
    }
   ],
   "source": [
    "ecart = np.std(nb_notes_utilisateur)\n",
    "print(\"L'ecart type est d'environ {0:.2f}\".format(ecart))"
   ]
  },
  {
   "cell_type": "code",
   "execution_count": 17,
   "metadata": {},
   "outputs": [
    {
     "name": "stdout",
     "output_type": "stream",
     "text": [
      "La variance est d'environ 91408.77 \n"
     ]
    }
   ],
   "source": [
    "variance = np.var(nb_notes_utilisateur)\n",
    "print(\"La variance est d'environ {0:.2f} \".format(variance))"
   ]
  },
  {
   "cell_type": "markdown",
   "metadata": {},
   "source": [
    "L'écart type et la variance permettent de mesurer l'étendue des données et à quel point elles sont dispersées. Nos données indiquent que les données sont très dispersées et qu'il existe de forts écart entre certains points de données et la moyenne."
   ]
  },
  {
   "cell_type": "code",
   "execution_count": 18,
   "metadata": {},
   "outputs": [
    {
     "name": "stdout",
     "output_type": "stream",
     "text": [
      "39.0\n",
      "259.0\n"
     ]
    }
   ],
   "source": [
    "quantile1 = np.percentile(nb_notes_utilisateur, 25)\n",
    "print(quantile1)\n",
    "\n",
    "quantile2 = np.percentile(nb_notes_utilisateur, 75)\n",
    "print(quantile2)"
   ]
  },
  {
   "cell_type": "markdown",
   "metadata": {},
   "source": [
    "Ces données signifient qu'un quart des utilisateurs de ce dataset ont donné 39 notes ou moins et que trois quarts ont donné 259 notes ou moins. Ce sera donc un véritable challenge d'entraîner un système de recommandation basé sur les interactions entre l'utilisateur et les programmes.\n",
    "\n",
    "Reprenons toutes ces statistiques sous la forme d'un diagramme à boîtes."
   ]
  },
  {
   "cell_type": "code",
   "execution_count": 19,
   "metadata": {},
   "outputs": [
    {
     "data": {
      "text/plain": [
       "{'whiskers': [<matplotlib.lines.Line2D at 0x7fa6fe6637b8>,\n",
       "  <matplotlib.lines.Line2D at 0x7fa6fe663c50>],\n",
       " 'caps': [<matplotlib.lines.Line2D at 0x7fa6fe65f0b8>,\n",
       "  <matplotlib.lines.Line2D at 0x7fa6fe65f4e0>],\n",
       " 'boxes': [<matplotlib.lines.Line2D at 0x7fa6fe663668>],\n",
       " 'medians': [<matplotlib.lines.Line2D at 0x7fa6fe65f908>],\n",
       " 'fliers': [<matplotlib.lines.Line2D at 0x7fa6fe65fd30>],\n",
       " 'means': []}"
      ]
     },
     "execution_count": 19,
     "metadata": {},
     "output_type": "execute_result"
    },
    {
     "data": {
      "image/png": "[encoded data removed]",
      "text/plain": [
       "<Figure size 1440x720 with 1 Axes>"
      ]
     },
     "metadata": {},
     "output_type": "display_data"
    }
   ],
   "source": [
    "font= {'size': 30}\n",
    "plt.rc('font',**font)\n",
    "plt.figure(figsize = (20,10))\n",
    "plt.xlabel('Nombre de notes par utilisateur')\n",
    "plt.title('Diagramme en boîte représentant le nombre de notes données par l\\'utilisateur')\n",
    "\n",
    "plt.boxplot(nb_notes_utilisateur, vert=False)"
   ]
  },
  {
   "cell_type": "markdown",
   "metadata": {},
   "source": [
    "# Conclusion\n",
    "\n",
    "Ce qu'il faut retenir de cette première analyse des données.\n",
    "* il contient beaucoup d'informations (plusieurs dizaines de millions de notes de plusieurs dizaines de milliers d'utilisateurs sur des milliers de films)\n",
    "* les utilisateurs ont tendance à noter les films qu'ils apprécient (note la plus donnée : 4)\n",
    "* il y a très peu de notes par utilisateur (75 % ont donné moins de 259 notes)\n",
    "* ce jeu de données contient quelques valeurs extrêmes avec des utilisateurs ayant donné énormément de notes (beaucoup de nombres de notes à plus de 50 % de la médiane)\n",
    "* ce jeu de données est très dispersé comme en témoigne l'écart type (302)"
   ]
  },
  {
   "cell_type": "markdown",
   "metadata": {},
   "source": [
    "# Élimination des outliers\n",
    "\n",
    "On peut voir sur le diagramme en boîte ci-dessus qu'il y a des valeurs extrêmes avec des utilisateurs qui semblent avoir visionné tout \n",
    "le contenu. Cela semble suspect, la question est donc de déterminer s'il ne s'agirait pas de bots.\n",
    "\n",
    "Pour cela nous allons étudier le dataset avec deux approches :\n",
    "* calculer les z-scores, c'est-à-dire standardiser et normaliser les valeurs pour obtenir une distribution normale\n",
    "* regarder l'échelle de temps et estimer s'il est humainement possible de visionner autant de contenu sur cet intervalle de temps"
   ]
  },
  {
   "cell_type": "code",
   "execution_count": 20,
   "metadata": {},
   "outputs": [],
   "source": [
    "# z-scores\n",
    "z_scores = stats.zscore(nb_notes_utilisateur)"
   ]
  },
  {
   "cell_type": "code",
   "execution_count": 21,
   "metadata": {},
   "outputs": [
    {
     "data": {
      "text/plain": [
       "Text(0.5,1,'Distribution du nombre de notes par utilisateur')"
      ]
     },
     "execution_count": 21,
     "metadata": {},
     "output_type": "execute_result"
    },
    {
     "data": {
      "image/png": "[encoded data removed]",
      "text/plain": [
       "<Figure size 432x288 with 1 Axes>"
      ]
     },
     "metadata": {},
     "output_type": "display_data"
    }
   ],
   "source": [
    "plt.hist(z_scores, 300, range=[-1, 5])\n",
    "plt.xlabel('Nombre de notes par utilisateur standardisé et normalisé')\n",
    "plt.title('Distribution du nombre de notes par utilisateur')"
   ]
  },
  {
   "cell_type": "markdown",
   "metadata": {},
   "source": [
    "### Enseignements\n",
    "On peut voir qu'on a beaucoup de points au delà de 3 écarts type de la moyenne. La moyenne est 0 mais pourtant, le pic n'est pas du tout à 0, cela signifie qu'il y a des valeurs extrêmes qui ont un impact fort sur la moyenne. L'objectif est d'éliminer ces valeurs."
   ]
  },
  {
   "cell_type": "code",
   "execution_count": 22,
   "metadata": {},
   "outputs": [
    {
     "name": "stdout",
     "output_type": "stream",
     "text": [
      "Moyenne : -1.4175667098958453e-17\n",
      "Écart type : 0.9999999999999999\n",
      "Minimum : -0.6888033179768879\n",
      "Maximum : 57.69602067829659\n"
     ]
    }
   ],
   "source": [
    "print('Moyenne : {}'.format(np.mean(z_scores)))\n",
    "print('Écart type : {}'.format(np.std(z_scores)))\n",
    "print('Minimum : {}'.format(np.min(z_scores)))\n",
    "print('Maximum : {}'.format(np.max(z_scores)))"
   ]
  },
  {
   "cell_type": "markdown",
   "metadata": {},
   "source": [
    "On peut voir qu'on a bien une loi normale avec pour moyenne 0 et pour écart type 1 et qu'on a des valeurs extrêmes comme 57 qui sont aberrantes. L'objectif est de déterminer le nombre de valeurs aberrantes et de les supprimer. "
   ]
  },
  {
   "cell_type": "code",
   "execution_count": 23,
   "metadata": {},
   "outputs": [
    {
     "name": "stdout",
     "output_type": "stream",
     "text": [
      "Nombre de valeurs aberrantes : 9623\n"
     ]
    }
   ],
   "source": [
    "z_scores_greater_than_three = z_scores[z_scores > 3]\n",
    "print('Nombre de valeurs aberrantes : {}'.format(len(z_scores_greater_than_three)))"
   ]
  },
  {
   "cell_type": "markdown",
   "metadata": {},
   "source": [
    "Il semblerait qu'il y ait donc 9 623 utilisateurs qui aient donné des valeurs aberrantes au sens statistique. Ces données peuvent fausser l'analyse ensuite. Même si au sens statistique elles le sont, est-ce possible pour un humain de visionner autant de contenu en si peu de temps ?\n",
    "\n",
    "Tout d'abord, il nous faut savoir à partir de combien de notes on juge que les valeurs sont aberrantes.\n",
    "On calcule le z-score à l'aide de la formule suivante :\n",
    "\n",
    "$$ z = \\frac{x-\\mu}{\\sigma}$$\n",
    "\n",
    "Dans notre cas, on a $\\mu \\approx 209$ et $\\sigma \\approx 302$. Une pratique courante est de considérer que les valeurs sont aberrantes à partir de $3\\sigma$. $\\sigma = 1$ donc les valeurs aberrantes sont tous les $z$ tels que $z \\geq 3$. À noter que c'est symétrique et qu'il faudrait donc exclure les $z \\leq -3$ mais nous n'avons aucune valeur comme celle-ci. Ce qui nous donne finalement : $x \\geq 3 \\times 302 + 209 = 1115$\n",
    "\n",
    "On en conclut donc que tous les utilisateurs ayant donné plus de 1 115 notes sont jugés aberrants."
   ]
  },
  {
   "cell_type": "code",
   "execution_count": 35,
   "metadata": {},
   "outputs": [
    {
     "data": {
      "text/plain": [
       "480189"
      ]
     },
     "execution_count": 35,
     "metadata": {},
     "output_type": "execute_result"
    }
   ],
   "source": [
    "users_and_ratings_number = Counter(data['customer_id'])"
   ]
  },
  {
   "cell_type": "code",
   "execution_count": 41,
   "metadata": {},
   "outputs": [],
   "source": [
    "# select all the key/value pairs for which the number of ratings is greater than 1115\n",
    "outliers = [(customer_id, ratings_number) for customer_id, ratings_number in users_and_ratings_number.items() if ratings_number > 1115]"
   ]
  },
  {
   "cell_type": "code",
   "execution_count": 43,
   "metadata": {},
   "outputs": [
    {
     "name": "stdout",
     "output_type": "stream",
     "text": [
      "0\n",
      "1000\n",
      "2000\n",
      "3000\n",
      "4000\n",
      "5000\n",
      "6000\n",
      "7000\n",
      "8000\n",
      "9000\n"
     ]
    }
   ],
   "source": [
    "possible = []\n",
    "impossible = []\n",
    "\n",
    "# hypothesis\n",
    "threshold = 0.5 # fraction of day time spent on Netflix\n",
    "estimated_movie_duration = 90\n",
    "\n",
    "for outlier in outliers:\n",
    "    # because it can take a long time, see how fast it goes\n",
    "    a = outliers.index(outlier)\n",
    "    if (a % 1000) == 0:\n",
    "        print(a)\n",
    "        \n",
    "    # select all rows corresponding to the outlier\n",
    "    outlier_rows = data[data['customer_id'] == outlier[0]]\n",
    "    \n",
    "    # find dates (when he gave a note for the first time, when he gave a note for the last time)\n",
    "    date_first_note = min(outlier_rows['date'])\n",
    "    date_last_note = max(outlier_rows['date'])\n",
    "    \n",
    "    # compute the time delta\n",
    "    diff = date_last_note - date_first_note\n",
    "    diff_in_minutes = diff.days * 24 * 60\n",
    "\n",
    "    # compute estimated time spent to watch all those movies\n",
    "    potential_time_spent = outlier[1] * estimated_movie_duration\n",
    "    \n",
    "    # check if it is really possible for a human\n",
    "    if threshold * diff_in_minutes > potential_time_spent :\n",
    "        possible.append(outlier[0])\n",
    "    else:\n",
    "        impossible.append(outlier[0])"
   ]
  },
  {
   "cell_type": "code",
   "execution_count": 44,
   "metadata": {},
   "outputs": [
    {
     "data": {
      "text/plain": [
       "713"
      ]
     },
     "execution_count": 44,
     "metadata": {},
     "output_type": "execute_result"
    }
   ],
   "source": [
    "len(impossible)"
   ]
  },
  {
   "cell_type": "code",
   "execution_count": 45,
   "metadata": {},
   "outputs": [
    {
     "data": {
      "text/plain": [
       "8930"
      ]
     },
     "execution_count": 45,
     "metadata": {},
     "output_type": "execute_result"
    }
   ],
   "source": [
    "len(possible)"
   ]
  }
 ],
 "metadata": {
  "kernelspec": {
   "display_name": "Python 3",
   "language": "python",
   "name": "python3"
  },
  "language_info": {
   "codemirror_mode": {
    "name": "ipython",
    "version": 3
   },
   "file_extension": ".py",
   "mimetype": "text/x-python",
   "name": "python",
   "nbconvert_exporter": "python",
   "pygments_lexer": "ipython3",
   "version": "3.6.5"
  }
 },
 "nbformat": 4,
 "nbformat_minor": 2
}
