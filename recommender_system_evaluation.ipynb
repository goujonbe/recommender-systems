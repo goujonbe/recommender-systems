{
 "cells": [
  {
   "cell_type": "markdown",
   "metadata": {},
   "source": [
    "# Différentes techniques d'évaluation d'un système de recommandation\n",
    "\n",
    "La qualité d'un système de recommandation peut être déterminée à l'aide de différentes métriques qui font l'objet de cette présentation.\n",
    "On en distingue deux principales :\n",
    "1. L'erreur moyenne absolue et l'erreur moyenne absolue normalisée\n",
    "2. L'erreur quadratique moyenne\n",
    "\n",
    "Les sources utilisées et la documentation est généralement en anglais. Pour une meilleure compréhension, voici les équivalents dans la langue de Shakespeare :\n",
    "\n",
    "Français | Anglais\n",
    "------------ | -------------\n",
    "Erreur Moyenne Absolue (EMA) | Mean Absolute Error (MAE)\n",
    "Erreur Quadratique Moyenne | Root Mean Squared Error (RMSE)\n",
    "\n",
    "## Les métriques en théorie\n",
    "\n",
    "Dans un premier temps nous nous attacherons à décrire la théorie mathématique derrière chacune de ces métriques, leurs avantages et inconvénients.\n",
    "\n",
    "### Mean Absolute Error (MAE)\n",
    "\n",
    "Il s'agit de la moyenne de la somme des écarts entre les valeurs prédites et les valeurs réelles, en valeur absolue.\n",
    "\n",
    "$$ MAE = \\frac{1}{n} \\sum\\limits_{j=1}^n \\lvert p_{i,j} - r_{i,j} \\rvert $$\n",
    "\n",
    "$n$ est le nombre total de notes données par l'utilisateur $i$. $p_{i,j}$ est la note prédite pour l'utilisateur $i$ et l'item $j$ (exemples : un film, une chanson, un livre ...) et $r_{i,j}$ la note réelle accordée par l'utilisateur. Nous avons étudié le cas où on cherché l'erreur pour un utilisateur mais on pourrait imaginer calculer la MAE sur l'ensemble de la matrice d'interaction ainsi :\n",
    "\n",
    "$$ MAE = \\frac{1}{n} \\sum\\limits_{i=1}^n \\sum\\limits_{j=1}^n \\lvert p_{i,j} - r_{i,j} \\rvert $$\n",
    "\n",
    "Pour chaque utilisateur (chaque ligne de notre matrice d'interaction), on calcule l'erreur pour chaque chaque item noté. Plus la MAE est faible, meilleure est la prédiction.\n",
    "\n",
    "Pour plus de détails sur cette métrique :\n",
    "* [Papier de chercheurs de l'UC Berkeley](http://goldberg.berkeley.edu/pubs/eigentaste.pdf)\n",
    "* [La référence en matière d'évaluation de système de recommandation](https://grouplens.org/site-content/uploads/evaluating-TOIS-20041.pdf)\n",
    "\n",
    "### Root Mean Squared Error (RMSE)\n",
    "\n",
    "C'est la métrique utilisée lors du prix Netflix. La formule est la suivante :\n",
    "\n",
    "$$ RMSE = \\sqrt{ \\frac{1}{n} \\sum\\limits_{i=1}^n \\sum\\limits_{j=1}^n  (p_{i,j} - r_{i,j})^2 } $$\n",
    "\n",
    "$n$ est le nombre total de notes pour tous les utilisateurs et items. $p_{i,j}$ est la note prédite pour l'utilisateur $i$ et l'item $j$ et $r_{i,j}$ la note réelle. Comme pour la MAE, plus la RMSE est faible, meilleure est la prédiction. \n",
    "\n",
    "### Discussion\n",
    "\n",
    "Un système de recommandation précis (avec des bonnes métriques) n'est pas forcément le meilleur aux yeux de l'utilisateur. L'utilisateur n'a pas forcément envie d'avoir du contenu basé sur ses anciens favoris et peut préférer de nouvelles choses. C'est la raison pour laquelle d'autres métriques comme la sensibilité ROC peuvent être utilisées."
   ]
  },
  {
   "cell_type": "markdown",
   "metadata": {},
   "source": [
    "## Les métriques en pratique\n",
    "\n",
    "En Python, comment calculer ces métriques ?"
   ]
  },
  {
   "cell_type": "code",
   "execution_count": 49,
   "metadata": {},
   "outputs": [],
   "source": [
    "import math # to do some basic operations like square root\n",
    "import numpy as np# linear algebra\n",
    "from sklearn.metrics import mean_absolute_error, mean_squared_error"
   ]
  },
  {
   "cell_type": "markdown",
   "metadata": {},
   "source": [
    "### Mean Absolute Error"
   ]
  },
  {
   "cell_type": "code",
   "execution_count": 50,
   "metadata": {},
   "outputs": [],
   "source": [
    "# By hand\n",
    "def get_mae(predicted_matrix, real_matrix):\n",
    "    \"\"\"function that computes the Mean Absolute Error (MAE) given two matrices, the first one being the \n",
    "    predicted matrix, the second one being the matrix that contains the real ratings.\"\"\"\n",
    "    absolute_error = 0\n",
    "    \n",
    "    # sum absolute errors\n",
    "    for i in range(np.size(predicted_matrix, 0)): # for each user (row)\n",
    "        for j in range(np.size(predicted_matrix, 1)): # for each item (column)\n",
    "            absolute_error += abs(predicted_matrix[i][j] - real_matrix[i][j])\n",
    "\n",
    "    return absolute_error / np.size(predicted_matrix) # divide by the total number of ratings"
   ]
  },
  {
   "cell_type": "code",
   "execution_count": 51,
   "metadata": {},
   "outputs": [],
   "source": [
    "# Using scikit-learn module\n",
    "def get_scikit_mae(predicted_matrix, real_matrix):\n",
    "    \"\"\"function that returns the MAE using scikit-learn module\"\"\"\n",
    "    return mean_absolute_error(real_matrix, predicted_matrix)"
   ]
  },
  {
   "cell_type": "code",
   "execution_count": 52,
   "metadata": {},
   "outputs": [
    {
     "name": "stdout",
     "output_type": "stream",
     "text": [
      "Mean Absolute Error with my function : 1.93\n",
      "Mean Absolute Error with scikit-learn : 1.93\n"
     ]
    }
   ],
   "source": [
    "# generate matrices of random numbers\n",
    "dim = (3, 5) # 3 users, 5 items\n",
    "predicted = np.random.randint(1, 6, size=dim)\n",
    "real = np.random.randint(1, 6, size=dim)\n",
    "print('Mean Absolute Error with my function : {0:.2f}'.format(get_mae(predicted, real)))\n",
    "print('Mean Absolute Error with scikit-learn : {0:.2f}'.format(get_scikit_mae(predicted, real)))"
   ]
  },
  {
   "cell_type": "code",
   "execution_count": 53,
   "metadata": {},
   "outputs": [
    {
     "name": "stdout",
     "output_type": "stream",
     "text": [
      "70.2 ms ± 485 µs per loop (mean ± std. dev. of 7 runs, 10 loops each)\n",
      "727 µs ± 141 µs per loop (mean ± std. dev. of 7 runs, 1000 loops each)\n"
     ]
    }
   ],
   "source": [
    "# For big matrices, computation times are essential. So let's compare the two methods\n",
    "dim = (200, 500)\n",
    "predicted = np.random.randint(1, 6, size=dim)\n",
    "real = np.random.randint(1, 6, size=dim) \n",
    "%timeit get_mae(predicted, real)\n",
    "%timeit get_scikit_mae(predicted, real)"
   ]
  },
  {
   "cell_type": "markdown",
   "metadata": {},
   "source": [
    "### Root Mean Squared Error"
   ]
  },
  {
   "cell_type": "code",
   "execution_count": 54,
   "metadata": {},
   "outputs": [],
   "source": [
    "# By hand\n",
    "def get_rmse(predicted_matrix, real_matrix):\n",
    "    \"\"\"function that computes the Root Mean Squared Error (RMSE) given two matrices, the first one being the \n",
    "    predicted matrix, the second one being the matrix that contains the real ratings.\"\"\"\n",
    "    squared_error = 0\n",
    "    \n",
    "    # sum squared errors\n",
    "    for i in range(np.size(predicted_matrix, 0)): # for each user (row)\n",
    "        for j in range(np.size(predicted_matrix, 1)): # for each item (column)\n",
    "            squared_error += (predicted_matrix[i][j] - real_matrix[i][j]) ** 2\n",
    "    \n",
    "    return math.sqrt(squared_error / np.size(predicted_matrix))"
   ]
  },
  {
   "cell_type": "code",
   "execution_count": 55,
   "metadata": {},
   "outputs": [],
   "source": [
    "# Using scikit-learn module\n",
    "def get_scikit_rmse(predicted_matrix, real_matrix):\n",
    "    \"\"\"function that returns the RMSE using scikit-learn module\"\"\"\n",
    "    # scikit-learn returns the mean squared error and we want the ROOT mean squared error, so we need to use math.sqrt function\n",
    "    return math.sqrt(mean_squared_error(real_matrix, predicted_matrix))"
   ]
  },
  {
   "cell_type": "code",
   "execution_count": 56,
   "metadata": {},
   "outputs": [
    {
     "name": "stdout",
     "output_type": "stream",
     "text": [
      "RMSE with my function : 2.13\n",
      "RMSE with scikit-learn : 2.13\n"
     ]
    }
   ],
   "source": [
    "# generate matrices of random numbers\n",
    "dim = (5, 7) # 5 users, 7 items\n",
    "predicted = np.random.randint(1, 6, size=dim)\n",
    "real = np.random.randint(1, 6, size=dim)\n",
    "print('RMSE with my function : {0:.2f}'.format(get_rmse(predicted, real)))\n",
    "print('RMSE with scikit-learn : {0:.2f}'.format(get_scikit_rmse(predicted, real)))"
   ]
  },
  {
   "cell_type": "code",
   "execution_count": 57,
   "metadata": {},
   "outputs": [
    {
     "name": "stdout",
     "output_type": "stream",
     "text": [
      "84 ms ± 2.98 ms per loop (mean ± std. dev. of 7 runs, 10 loops each)\n",
      "581 µs ± 3.98 µs per loop (mean ± std. dev. of 7 runs, 1000 loops each)\n"
     ]
    }
   ],
   "source": [
    "# For big matrices, computation times are essential. So let's compare the two methods\n",
    "dim = (200, 500)\n",
    "predicted = np.random.randint(1, 6, size=dim)\n",
    "real = np.random.randint(1, 6, size=dim) \n",
    "%timeit get_rmse(predicted, real)\n",
    "%timeit get_scikit_rmse(predicted, real)"
   ]
  }
 ],
 "metadata": {
  "kernelspec": {
   "display_name": "Python 3",
   "language": "python",
   "name": "python3"
  },
  "language_info": {
   "codemirror_mode": {
    "name": "ipython",
    "version": 3
   },
   "file_extension": ".py",
   "mimetype": "text/x-python",
   "name": "python",
   "nbconvert_exporter": "python",
   "pygments_lexer": "ipython3",
   "version": "3.6.2"
  }
 },
 "nbformat": 4,
 "nbformat_minor": 2
}
